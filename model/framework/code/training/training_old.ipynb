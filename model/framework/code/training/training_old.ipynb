{
 "cells": [
  {
   "cell_type": "code",
   "execution_count": 5,
   "id": "36bab5e5",
   "metadata": {},
   "outputs": [],
   "source": [
    "import pandas as pd\n",
    "import lazyqsar as lq\n",
    "\n",
    "activities = ['antiinfective','antiinflammatory','antineoplastic','cardio',\n",
    "              'cns','dermatologic','gastrointestinal','hematologic',\n",
    "              'lipidregulating','reproductivecontrol','respiratorysystem','urological']"
   ]
  },
  {
   "cell_type": "code",
   "execution_count": 19,
   "id": "bce86998",
   "metadata": {},
   "outputs": [
    {
     "name": "stdout",
     "output_type": "stream",
     "text": [
      "antiinfective 2398 4550\n",
      "Fitting inputs to feature descriptors using morgan\n"
     ]
    },
    {
     "name": "stderr",
     "output_type": "stream",
     "text": [
      "[15:23:19] Conflicting single bond directions around double bond at index 1.\n",
      "[15:23:19]   BondStereo set to STEREONONE and single bond directions set to NONE.\n",
      "[15:23:19] Conflicting single bond directions around double bond at index 1.\n",
      "[15:23:19]   BondStereo set to STEREONONE and single bond directions set to NONE.\n",
      "[15:23:19] Conflicting single bond directions around double bond at index 1.\n",
      "[15:23:19]   BondStereo set to STEREONONE and single bond directions set to NONE.\n",
      "[15:23:19] Conflicting single bond directions around double bond at index 1.\n",
      "[15:23:19]   BondStereo set to STEREONONE and single bond directions set to NONE.\n",
      "[15:23:19] Conflicting single bond directions around double bond at index 1.\n",
      "[15:23:19]   BondStereo set to STEREONONE and single bond directions set to NONE.\n",
      "[15:23:19] Conflicting single bond directions around double bond at index 1.\n",
      "[15:23:19]   BondStereo set to STEREONONE and single bond directions set to NONE.\n",
      "[15:23:19] Conflicting single bond directions around double bond at index 1.\n",
      "[15:23:19]   BondStereo set to STEREONONE and single bond directions set to NONE.\n",
      "[15:23:19] Conflicting single bond directions around double bond at index 1.\n",
      "[15:23:19]   BondStereo set to STEREONONE and single bond directions set to NONE.\n",
      "[15:23:19] Conflicting single bond directions around double bond at index 1.\n",
      "[15:23:19]   BondStereo set to STEREONONE and single bond directions set to NONE.\n",
      "[15:23:21] WARNING: not removing hydrogen atom without neighbors\n"
     ]
    },
    {
     "name": "stdout",
     "output_type": "stream",
     "text": [
      "Transforming inputs to feature descriptors using morgan\n"
     ]
    },
    {
     "name": "stderr",
     "output_type": "stream",
     "text": [
      "[15:23:23] Conflicting single bond directions around double bond at index 1.\n",
      "[15:23:23]   BondStereo set to STEREONONE and single bond directions set to NONE.\n",
      "[15:23:23] Conflicting single bond directions around double bond at index 1.\n",
      "[15:23:23]   BondStereo set to STEREONONE and single bond directions set to NONE.\n",
      "[15:23:23] Conflicting single bond directions around double bond at index 1.\n",
      "[15:23:23]   BondStereo set to STEREONONE and single bond directions set to NONE.\n",
      "[15:23:23] Conflicting single bond directions around double bond at index 1.\n",
      "[15:23:23]   BondStereo set to STEREONONE and single bond directions set to NONE.\n",
      "[15:23:23] Conflicting single bond directions around double bond at index 1.\n",
      "[15:23:23]   BondStereo set to STEREONONE and single bond directions set to NONE.\n",
      "[15:23:23] Conflicting single bond directions around double bond at index 1.\n",
      "[15:23:23]   BondStereo set to STEREONONE and single bond directions set to NONE.\n",
      "[15:23:23] Conflicting single bond directions around double bond at index 1.\n",
      "[15:23:23]   BondStereo set to STEREONONE and single bond directions set to NONE.\n",
      "[15:23:23] Conflicting single bond directions around double bond at index 1.\n",
      "[15:23:23]   BondStereo set to STEREONONE and single bond directions set to NONE.\n",
      "[15:23:23] Conflicting single bond directions around double bond at index 1.\n",
      "[15:23:23]   BondStereo set to STEREONONE and single bond directions set to NONE.\n",
      "[15:23:24] WARNING: not removing hydrogen atom without neighbors\n"
     ]
    },
    {
     "name": "stdout",
     "output_type": "stream",
     "text": [
      "Performing predictions on input feature of shape: (6948, 2048)\n",
      "Total samples: 6948, positive samples: 2398, negative samples: 4550\n",
      "Maximum samples per partition: 10000, minimum samples per partition: 30\n",
      "Positive proportion: 0.35\n",
      "Original positive samples: 2398, total samples: 6948\n",
      "Maximum samples: 10000\n",
      "Sampling 2398 positive and 4550 negative samples from 6948 total samples.\n"
     ]
    },
    {
     "name": "stderr",
     "output_type": "stream",
     "text": [
      "  1%|          | 10/1000 [00:00<00:25, 38.70it/s]\n"
     ]
    },
    {
     "name": "stdout",
     "output_type": "stream",
     "text": [
      "Unique sampled indices matrix shape: (1, 6948)\n"
     ]
    },
    {
     "name": "stderr",
     "output_type": "stream",
     "text": [
      "100%|██████████| 1/1 [00:01<00:00,  1.05s/it]\n"
     ]
    },
    {
     "name": "stdout",
     "output_type": "stream",
     "text": [
      "Indices matrix shape after redundancy removal: (1, 6948)\n",
      "Original positive negative balance: positive 2398, negative 4550\n",
      "Avg positive samples: 2398.0, avg negative samples: 4550.0\n"
     ]
    },
    {
     "name": "stderr",
     "output_type": "stream",
     "text": [
      "[I 2025-07-16 15:23:28,098] A new study created in memory with name: no-name-533dd15e-d17a-4350-9d01-d35350ab94e1\n"
     ]
    },
    {
     "name": "stdout",
     "output_type": "stream",
     "text": [
      "Fitting model on 6948 samples, positive samples: 2398, negative samples: 4550, number of features 2048\n",
      "Suggested zero-shot hyperparameters: {'n_estimators': 501, 'max_features': 0.24484242524861066, 'criterion': 'entropy', 'max_leaf_nodes': 1156, 'random_state': 12032022, 'verbose': 0, 'class_weight': 'balanced_subsample'}\n",
      "Fitting...\n"
     ]
    },
    {
     "name": "stderr",
     "output_type": "stream",
     "text": [
      "[I 2025-07-16 15:25:14,194] Trial 0 finished with value: 0.9790921528388546 and parameters: {'n_estimators': 501, 'max_features': 0.24484242524861066, 'max_leaf_nodes': 1156, 'criterion': 'entropy'}. Best is trial 0 with value: 0.9790921528388546.\n",
      "[I 2025-07-16 15:28:03,002] Trial 1 finished with value: 0.9779397537379069 and parameters: {'n_estimators': 476, 'max_features': 0.4253823424614421, 'max_leaf_nodes': 2890, 'criterion': 'entropy'}. Best is trial 0 with value: 0.9790921528388546.\n"
     ]
    },
    {
     "name": "stdout",
     "output_type": "stream",
     "text": [
      "Best hyperparameters: {'n_estimators': 501, 'max_features': 0.24484242524861066, 'max_leaf_nodes': 1156, 'criterion': 'entropy', 'n_jobs': 15, 'random_state': 42, 'class_weight': 'balanced_subsample'}, Inner hyperparameter AUROC: 0.9790921528388546\n",
      "Internal AUROC CV-0: 0.9794041336851363\n",
      "Internal AUROC CV-1: 0.9810041043682205\n",
      "Internal AUROC CV-2: 0.9794246555262386\n",
      "Logistic regression for calibration...\n",
      "Logistic regression fit done.\n",
      "Average AUROC: 0.979944297859865\n",
      "Model fitted.\n",
      "Fitting completed in 406.08 seconds.\n",
      "LazyQSAR Saving model to ../checkpoints/antiinfective\n",
      "Creating model directory: ../checkpoints/antiinfective\n",
      "Saving reducer to ../checkpoints/antiinfective/partition_000/reducer.joblib\n",
      "Saving model to ../checkpoints/antiinfective/partition_000\n",
      "Saving done!\n",
      "antiinflammatory 373 6575\n",
      "Fitting inputs to feature descriptors using morgan\n"
     ]
    },
    {
     "name": "stderr",
     "output_type": "stream",
     "text": [
      "[15:30:12] Conflicting single bond directions around double bond at index 1.\n",
      "[15:30:12]   BondStereo set to STEREONONE and single bond directions set to NONE.\n",
      "[15:30:12] Conflicting single bond directions around double bond at index 1.\n",
      "[15:30:12]   BondStereo set to STEREONONE and single bond directions set to NONE.\n",
      "[15:30:12] Conflicting single bond directions around double bond at index 1.\n",
      "[15:30:12]   BondStereo set to STEREONONE and single bond directions set to NONE.\n",
      "[15:30:12] Conflicting single bond directions around double bond at index 1.\n",
      "[15:30:12]   BondStereo set to STEREONONE and single bond directions set to NONE.\n",
      "[15:30:12] WARNING: not removing hydrogen atom without neighbors\n",
      "[15:30:12] Conflicting single bond directions around double bond at index 1.\n",
      "[15:30:12]   BondStereo set to STEREONONE and single bond directions set to NONE.\n",
      "[15:30:12] Conflicting single bond directions around double bond at index 1.\n",
      "[15:30:12]   BondStereo set to STEREONONE and single bond directions set to NONE.\n",
      "[15:30:12] Conflicting single bond directions around double bond at index 1.\n",
      "[15:30:12]   BondStereo set to STEREONONE and single bond directions set to NONE.\n",
      "[15:30:12] Conflicting single bond directions around double bond at index 1.\n",
      "[15:30:12]   BondStereo set to STEREONONE and single bond directions set to NONE.\n",
      "[15:30:12] Conflicting single bond directions around double bond at index 1.\n",
      "[15:30:12]   BondStereo set to STEREONONE and single bond directions set to NONE.\n"
     ]
    },
    {
     "name": "stdout",
     "output_type": "stream",
     "text": [
      "Transforming inputs to feature descriptors using morgan\n"
     ]
    },
    {
     "name": "stderr",
     "output_type": "stream",
     "text": [
      "[15:30:15] Conflicting single bond directions around double bond at index 1.\n",
      "[15:30:15]   BondStereo set to STEREONONE and single bond directions set to NONE.\n",
      "[15:30:15] Conflicting single bond directions around double bond at index 1.\n",
      "[15:30:15]   BondStereo set to STEREONONE and single bond directions set to NONE.\n",
      "[15:30:15] Conflicting single bond directions around double bond at index 1.\n",
      "[15:30:15]   BondStereo set to STEREONONE and single bond directions set to NONE.\n",
      "[15:30:15] Conflicting single bond directions around double bond at index 1.\n",
      "[15:30:15]   BondStereo set to STEREONONE and single bond directions set to NONE.\n",
      "[15:30:15] WARNING: not removing hydrogen atom without neighbors\n",
      "[15:30:15] Conflicting single bond directions around double bond at index 1.\n",
      "[15:30:15]   BondStereo set to STEREONONE and single bond directions set to NONE.\n",
      "[15:30:15] Conflicting single bond directions around double bond at index 1.\n",
      "[15:30:15]   BondStereo set to STEREONONE and single bond directions set to NONE.\n",
      "[15:30:15] Conflicting single bond directions around double bond at index 1.\n",
      "[15:30:15]   BondStereo set to STEREONONE and single bond directions set to NONE.\n",
      "[15:30:15] Conflicting single bond directions around double bond at index 1.\n",
      "[15:30:15]   BondStereo set to STEREONONE and single bond directions set to NONE.\n",
      "[15:30:15] Conflicting single bond directions around double bond at index 1.\n",
      "[15:30:15]   BondStereo set to STEREONONE and single bond directions set to NONE.\n"
     ]
    },
    {
     "name": "stdout",
     "output_type": "stream",
     "text": [
      "Performing predictions on input feature of shape: (6948, 2048)\n",
      "Total samples: 6948, positive samples: 373, negative samples: 6575\n",
      "Maximum samples per partition: 10000, minimum samples per partition: 30\n",
      "Positive proportion: 0.05\n",
      "Original positive samples: 373, total samples: 6948\n",
      "Maximum samples: 10000\n",
      "Sampling 373 positive and 6575 negative samples from 6948 total samples.\n"
     ]
    },
    {
     "name": "stderr",
     "output_type": "stream",
     "text": [
      "  1%|          | 10/1000 [00:00<00:27, 35.73it/s]\n"
     ]
    },
    {
     "name": "stdout",
     "output_type": "stream",
     "text": [
      "Unique sampled indices matrix shape: (1, 6948)\n"
     ]
    },
    {
     "name": "stderr",
     "output_type": "stream",
     "text": [
      "100%|██████████| 1/1 [00:01<00:00,  1.28s/it]\n"
     ]
    },
    {
     "name": "stdout",
     "output_type": "stream",
     "text": [
      "Indices matrix shape after redundancy removal: (1, 6948)\n",
      "Original positive negative balance: positive 373, negative 6575\n",
      "Avg positive samples: 373.0, avg negative samples: 6575.0\n"
     ]
    },
    {
     "name": "stderr",
     "output_type": "stream",
     "text": [
      "[I 2025-07-16 15:30:20,672] A new study created in memory with name: no-name-4c351c97-61db-42e2-af4b-3d9ccd5fdfe8\n"
     ]
    },
    {
     "name": "stdout",
     "output_type": "stream",
     "text": [
      "Fitting model on 6948 samples, positive samples: 373, negative samples: 6575, number of features 2048\n",
      "Suggested zero-shot hyperparameters: {'n_estimators': 501, 'max_features': 0.24484242524861066, 'criterion': 'entropy', 'max_leaf_nodes': 1156, 'random_state': 12032022, 'verbose': 0, 'class_weight': 'balanced_subsample'}\n",
      "Fitting...\n"
     ]
    },
    {
     "name": "stderr",
     "output_type": "stream",
     "text": [
      "[I 2025-07-16 15:32:01,507] Trial 0 finished with value: 0.9640563273421762 and parameters: {'n_estimators': 501, 'max_features': 0.24484242524861066, 'max_leaf_nodes': 1156, 'criterion': 'entropy'}. Best is trial 0 with value: 0.9640563273421762.\n",
      "[I 2025-07-16 15:34:38,594] Trial 1 finished with value: 0.9623503300804925 and parameters: {'n_estimators': 476, 'max_features': 0.4253823424614421, 'max_leaf_nodes': 2890, 'criterion': 'entropy'}. Best is trial 0 with value: 0.9640563273421762.\n"
     ]
    },
    {
     "name": "stdout",
     "output_type": "stream",
     "text": [
      "Best hyperparameters: {'n_estimators': 501, 'max_features': 0.24484242524861066, 'max_leaf_nodes': 1156, 'criterion': 'entropy', 'n_jobs': 15, 'random_state': 42, 'class_weight': 'balanced_subsample'}, Inner hyperparameter AUROC: 0.9640563273421762\n",
      "Internal AUROC CV-0: 0.9737069303822306\n",
      "Internal AUROC CV-1: 0.9650864662637679\n",
      "Internal AUROC CV-2: 0.9611686680794287\n",
      "Logistic regression for calibration...\n",
      "Logistic regression fit done.\n",
      "Average AUROC: 0.9666540215751424\n",
      "Model fitted.\n",
      "Fitting completed in 342.22 seconds.\n",
      "LazyQSAR Saving model to ../checkpoints/antiinflammatory\n",
      "Creating model directory: ../checkpoints/antiinflammatory\n",
      "Saving reducer to ../checkpoints/antiinflammatory/partition_000/reducer.joblib\n",
      "Saving model to ../checkpoints/antiinflammatory/partition_000\n",
      "Saving done!\n",
      "antineoplastic 1177 5771\n",
      "Fitting inputs to feature descriptors using morgan\n"
     ]
    },
    {
     "name": "stderr",
     "output_type": "stream",
     "text": [
      "[15:36:01] Conflicting single bond directions around double bond at index 1.\n",
      "[15:36:01]   BondStereo set to STEREONONE and single bond directions set to NONE.\n",
      "[15:36:01] Conflicting single bond directions around double bond at index 1.\n",
      "[15:36:01]   BondStereo set to STEREONONE and single bond directions set to NONE.\n",
      "[15:36:01] Conflicting single bond directions around double bond at index 1.\n",
      "[15:36:01]   BondStereo set to STEREONONE and single bond directions set to NONE.\n",
      "[15:36:01] Conflicting single bond directions around double bond at index 1.\n",
      "[15:36:01]   BondStereo set to STEREONONE and single bond directions set to NONE.\n",
      "[15:36:01] WARNING: not removing hydrogen atom without neighbors\n",
      "[15:36:01] Conflicting single bond directions around double bond at index 1.\n",
      "[15:36:01]   BondStereo set to STEREONONE and single bond directions set to NONE.\n",
      "[15:36:01] Conflicting single bond directions around double bond at index 1.\n",
      "[15:36:01]   BondStereo set to STEREONONE and single bond directions set to NONE.\n",
      "[15:36:01] Conflicting single bond directions around double bond at index 1.\n",
      "[15:36:01]   BondStereo set to STEREONONE and single bond directions set to NONE.\n",
      "[15:36:01] Conflicting single bond directions around double bond at index 1.\n",
      "[15:36:01]   BondStereo set to STEREONONE and single bond directions set to NONE.\n",
      "[15:36:01] Conflicting single bond directions around double bond at index 1.\n",
      "[15:36:01]   BondStereo set to STEREONONE and single bond directions set to NONE.\n"
     ]
    },
    {
     "name": "stdout",
     "output_type": "stream",
     "text": [
      "Transforming inputs to feature descriptors using morgan\n"
     ]
    },
    {
     "name": "stderr",
     "output_type": "stream",
     "text": [
      "[15:36:03] Conflicting single bond directions around double bond at index 1.\n",
      "[15:36:03]   BondStereo set to STEREONONE and single bond directions set to NONE.\n",
      "[15:36:03] Conflicting single bond directions around double bond at index 1.\n",
      "[15:36:03]   BondStereo set to STEREONONE and single bond directions set to NONE.\n",
      "[15:36:03] Conflicting single bond directions around double bond at index 1.\n",
      "[15:36:03]   BondStereo set to STEREONONE and single bond directions set to NONE.\n",
      "[15:36:03] Conflicting single bond directions around double bond at index 1.\n",
      "[15:36:03]   BondStereo set to STEREONONE and single bond directions set to NONE.\n",
      "[15:36:03] WARNING: not removing hydrogen atom without neighbors\n",
      "[15:36:03] Conflicting single bond directions around double bond at index 1.\n",
      "[15:36:03]   BondStereo set to STEREONONE and single bond directions set to NONE.\n",
      "[15:36:03] Conflicting single bond directions around double bond at index 1.\n",
      "[15:36:03]   BondStereo set to STEREONONE and single bond directions set to NONE.\n",
      "[15:36:03] Conflicting single bond directions around double bond at index 1.\n",
      "[15:36:03]   BondStereo set to STEREONONE and single bond directions set to NONE.\n",
      "[15:36:03] Conflicting single bond directions around double bond at index 1.\n",
      "[15:36:03]   BondStereo set to STEREONONE and single bond directions set to NONE.\n",
      "[15:36:03] Conflicting single bond directions around double bond at index 1.\n",
      "[15:36:03]   BondStereo set to STEREONONE and single bond directions set to NONE.\n"
     ]
    },
    {
     "name": "stdout",
     "output_type": "stream",
     "text": [
      "Performing predictions on input feature of shape: (6948, 2048)\n",
      "Total samples: 6948, positive samples: 1177, negative samples: 5771\n",
      "Maximum samples per partition: 10000, minimum samples per partition: 30\n",
      "Positive proportion: 0.17\n",
      "Original positive samples: 1177, total samples: 6948\n",
      "Maximum samples: 10000\n",
      "Sampling 1177 positive and 5771 negative samples from 6948 total samples.\n"
     ]
    },
    {
     "name": "stderr",
     "output_type": "stream",
     "text": [
      "  1%|          | 10/1000 [00:00<00:45, 21.68it/s]\n"
     ]
    },
    {
     "name": "stdout",
     "output_type": "stream",
     "text": [
      "Unique sampled indices matrix shape: (1, 6948)\n"
     ]
    },
    {
     "name": "stderr",
     "output_type": "stream",
     "text": [
      "100%|██████████| 1/1 [00:00<00:00,  1.02it/s]\n"
     ]
    },
    {
     "name": "stdout",
     "output_type": "stream",
     "text": [
      "Indices matrix shape after redundancy removal: (1, 6948)\n",
      "Original positive negative balance: positive 1177, negative 5771\n",
      "Avg positive samples: 1177.0, avg negative samples: 5771.0\n"
     ]
    },
    {
     "name": "stderr",
     "output_type": "stream",
     "text": [
      "[I 2025-07-16 15:36:08,192] A new study created in memory with name: no-name-9eacabd0-db36-4ebe-9d24-a62d8ae91593\n"
     ]
    },
    {
     "name": "stdout",
     "output_type": "stream",
     "text": [
      "Fitting model on 6948 samples, positive samples: 1177, negative samples: 5771, number of features 2048\n",
      "Suggested zero-shot hyperparameters: {'n_estimators': 501, 'max_features': 0.24484242524861066, 'criterion': 'entropy', 'max_leaf_nodes': 1156, 'random_state': 12032022, 'verbose': 0, 'class_weight': 'balanced_subsample'}\n",
      "Fitting...\n"
     ]
    },
    {
     "name": "stderr",
     "output_type": "stream",
     "text": [
      "[I 2025-07-16 15:37:42,219] Trial 0 finished with value: 0.9658367158367159 and parameters: {'n_estimators': 501, 'max_features': 0.24484242524861066, 'max_leaf_nodes': 1156, 'criterion': 'entropy'}. Best is trial 0 with value: 0.9658367158367159.\n",
      "[I 2025-07-16 15:39:52,896] Trial 1 finished with value: 0.9646129646129648 and parameters: {'n_estimators': 476, 'max_features': 0.4253823424614421, 'max_leaf_nodes': 2890, 'criterion': 'entropy'}. Best is trial 0 with value: 0.9658367158367159.\n"
     ]
    },
    {
     "name": "stdout",
     "output_type": "stream",
     "text": [
      "Best hyperparameters: {'n_estimators': 501, 'max_features': 0.24484242524861066, 'max_leaf_nodes': 1156, 'criterion': 'entropy', 'n_jobs': 15, 'random_state': 42, 'class_weight': 'balanced_subsample'}, Inner hyperparameter AUROC: 0.9658367158367159\n",
      "Internal AUROC CV-0: 0.9710353996068283\n",
      "Internal AUROC CV-1: 0.9740890812319383\n",
      "Internal AUROC CV-2: 0.9653617510760368\n",
      "Logistic regression for calibration...\n",
      "Logistic regression fit done.\n",
      "Average AUROC: 0.9701620773049345\n",
      "Model fitted.\n",
      "Fitting completed in 338.92 seconds.\n",
      "LazyQSAR Saving model to ../checkpoints/antineoplastic\n",
      "Creating model directory: ../checkpoints/antineoplastic\n",
      "Saving reducer to ../checkpoints/antineoplastic/partition_000/reducer.joblib\n",
      "Saving model to ../checkpoints/antineoplastic/partition_000\n",
      "Saving done!\n",
      "cardio 788 6160\n",
      "Fitting inputs to feature descriptors using morgan\n"
     ]
    },
    {
     "name": "stderr",
     "output_type": "stream",
     "text": [
      "[15:41:45] Conflicting single bond directions around double bond at index 1.\n",
      "[15:41:45]   BondStereo set to STEREONONE and single bond directions set to NONE.\n",
      "[15:41:45] Conflicting single bond directions around double bond at index 1.\n",
      "[15:41:45]   BondStereo set to STEREONONE and single bond directions set to NONE.\n",
      "[15:41:45] Conflicting single bond directions around double bond at index 1.\n",
      "[15:41:45]   BondStereo set to STEREONONE and single bond directions set to NONE.\n",
      "[15:41:45] Conflicting single bond directions around double bond at index 1.\n",
      "[15:41:45]   BondStereo set to STEREONONE and single bond directions set to NONE.\n",
      "[15:41:45] WARNING: not removing hydrogen atom without neighbors\n",
      "[15:41:45] Conflicting single bond directions around double bond at index 1.\n",
      "[15:41:45]   BondStereo set to STEREONONE and single bond directions set to NONE.\n",
      "[15:41:45] Conflicting single bond directions around double bond at index 1.\n",
      "[15:41:45]   BondStereo set to STEREONONE and single bond directions set to NONE.\n",
      "[15:41:45] Conflicting single bond directions around double bond at index 1.\n",
      "[15:41:45]   BondStereo set to STEREONONE and single bond directions set to NONE.\n",
      "[15:41:45] Conflicting single bond directions around double bond at index 1.\n",
      "[15:41:45]   BondStereo set to STEREONONE and single bond directions set to NONE.\n",
      "[15:41:45] Conflicting single bond directions around double bond at index 1.\n",
      "[15:41:45]   BondStereo set to STEREONONE and single bond directions set to NONE.\n"
     ]
    },
    {
     "name": "stdout",
     "output_type": "stream",
     "text": [
      "Transforming inputs to feature descriptors using morgan\n"
     ]
    },
    {
     "name": "stderr",
     "output_type": "stream",
     "text": [
      "[15:41:49] Conflicting single bond directions around double bond at index 1.\n",
      "[15:41:49]   BondStereo set to STEREONONE and single bond directions set to NONE.\n",
      "[15:41:49] Conflicting single bond directions around double bond at index 1.\n",
      "[15:41:49]   BondStereo set to STEREONONE and single bond directions set to NONE.\n",
      "[15:41:49] Conflicting single bond directions around double bond at index 1.\n",
      "[15:41:49]   BondStereo set to STEREONONE and single bond directions set to NONE.\n",
      "[15:41:49] Conflicting single bond directions around double bond at index 1.\n",
      "[15:41:49]   BondStereo set to STEREONONE and single bond directions set to NONE.\n",
      "[15:41:49] WARNING: not removing hydrogen atom without neighbors\n",
      "[15:41:49] Conflicting single bond directions around double bond at index 1.\n",
      "[15:41:49]   BondStereo set to STEREONONE and single bond directions set to NONE.\n",
      "[15:41:49] Conflicting single bond directions around double bond at index 1.\n",
      "[15:41:49]   BondStereo set to STEREONONE and single bond directions set to NONE.\n",
      "[15:41:49] Conflicting single bond directions around double bond at index 1.\n",
      "[15:41:49]   BondStereo set to STEREONONE and single bond directions set to NONE.\n",
      "[15:41:49] Conflicting single bond directions around double bond at index 1.\n",
      "[15:41:49]   BondStereo set to STEREONONE and single bond directions set to NONE.\n",
      "[15:41:49] Conflicting single bond directions around double bond at index 1.\n",
      "[15:41:49]   BondStereo set to STEREONONE and single bond directions set to NONE.\n"
     ]
    },
    {
     "name": "stdout",
     "output_type": "stream",
     "text": [
      "Performing predictions on input feature of shape: (6948, 2048)\n",
      "Total samples: 6948, positive samples: 788, negative samples: 6160\n",
      "Maximum samples per partition: 10000, minimum samples per partition: 30\n",
      "Positive proportion: 0.11\n",
      "Original positive samples: 788, total samples: 6948\n",
      "Maximum samples: 10000\n",
      "Sampling 788 positive and 6160 negative samples from 6948 total samples.\n"
     ]
    },
    {
     "name": "stderr",
     "output_type": "stream",
     "text": [
      "  1%|          | 10/1000 [00:00<00:46, 21.34it/s]\n"
     ]
    },
    {
     "name": "stdout",
     "output_type": "stream",
     "text": [
      "Unique sampled indices matrix shape: (1, 6948)\n"
     ]
    },
    {
     "name": "stderr",
     "output_type": "stream",
     "text": [
      "100%|██████████| 1/1 [00:01<00:00,  1.27s/it]\n"
     ]
    },
    {
     "name": "stdout",
     "output_type": "stream",
     "text": [
      "Indices matrix shape after redundancy removal: (1, 6948)\n",
      "Original positive negative balance: positive 788, negative 6160\n",
      "Avg positive samples: 788.0, avg negative samples: 6160.0\n"
     ]
    },
    {
     "name": "stderr",
     "output_type": "stream",
     "text": [
      "[I 2025-07-16 15:41:55,382] A new study created in memory with name: no-name-ca6f27ea-f148-41d2-a0c7-314c29840e9b\n"
     ]
    },
    {
     "name": "stdout",
     "output_type": "stream",
     "text": [
      "Fitting model on 6948 samples, positive samples: 788, negative samples: 6160, number of features 2048\n",
      "Suggested zero-shot hyperparameters: {'n_estimators': 501, 'max_features': 0.24484242524861066, 'criterion': 'entropy', 'max_leaf_nodes': 1156, 'random_state': 12032022, 'verbose': 0, 'class_weight': 'balanced_subsample'}\n",
      "Fitting...\n"
     ]
    },
    {
     "name": "stderr",
     "output_type": "stream",
     "text": [
      "[I 2025-07-16 15:43:44,676] Trial 0 finished with value: 0.9621931790713517 and parameters: {'n_estimators': 501, 'max_features': 0.24484242524861066, 'max_leaf_nodes': 1156, 'criterion': 'entropy'}. Best is trial 0 with value: 0.9621931790713517.\n",
      "[I 2025-07-16 15:46:34,139] Trial 1 finished with value: 0.9613949502274375 and parameters: {'n_estimators': 476, 'max_features': 0.4253823424614421, 'max_leaf_nodes': 2890, 'criterion': 'entropy'}. Best is trial 0 with value: 0.9621931790713517.\n"
     ]
    },
    {
     "name": "stdout",
     "output_type": "stream",
     "text": [
      "Best hyperparameters: {'n_estimators': 501, 'max_features': 0.24484242524861066, 'max_leaf_nodes': 1156, 'criterion': 'entropy', 'n_jobs': 15, 'random_state': 42, 'class_weight': 'balanced_subsample'}, Inner hyperparameter AUROC: 0.9621931790713517\n",
      "Internal AUROC CV-0: 0.965343793262575\n",
      "Internal AUROC CV-1: 0.9572615202056826\n",
      "Internal AUROC CV-2: 0.9769991429889907\n",
      "Logistic regression for calibration...\n",
      "Logistic regression fit done.\n",
      "Average AUROC: 0.9665348188190827\n",
      "Model fitted.\n",
      "Fitting completed in 393.71 seconds.\n",
      "LazyQSAR Saving model to ../checkpoints/cardio\n",
      "Creating model directory: ../checkpoints/cardio\n",
      "Saving reducer to ../checkpoints/cardio/partition_000/reducer.joblib\n",
      "Saving model to ../checkpoints/cardio/partition_000\n",
      "Saving done!\n",
      "cns 1139 5809\n",
      "Fitting inputs to feature descriptors using morgan\n"
     ]
    },
    {
     "name": "stderr",
     "output_type": "stream",
     "text": [
      "[15:48:27] Conflicting single bond directions around double bond at index 1.\n",
      "[15:48:27]   BondStereo set to STEREONONE and single bond directions set to NONE.\n",
      "[15:48:27] Conflicting single bond directions around double bond at index 1.\n",
      "[15:48:27]   BondStereo set to STEREONONE and single bond directions set to NONE.\n",
      "[15:48:27] Conflicting single bond directions around double bond at index 1.\n",
      "[15:48:27]   BondStereo set to STEREONONE and single bond directions set to NONE.\n",
      "[15:48:27] Conflicting single bond directions around double bond at index 1.\n",
      "[15:48:27]   BondStereo set to STEREONONE and single bond directions set to NONE.\n",
      "[15:48:27] WARNING: not removing hydrogen atom without neighbors\n",
      "[15:48:27] Conflicting single bond directions around double bond at index 1.\n",
      "[15:48:27]   BondStereo set to STEREONONE and single bond directions set to NONE.\n",
      "[15:48:27] Conflicting single bond directions around double bond at index 1.\n",
      "[15:48:27]   BondStereo set to STEREONONE and single bond directions set to NONE.\n",
      "[15:48:27] Conflicting single bond directions around double bond at index 1.\n",
      "[15:48:27]   BondStereo set to STEREONONE and single bond directions set to NONE.\n",
      "[15:48:27] Conflicting single bond directions around double bond at index 1.\n",
      "[15:48:27]   BondStereo set to STEREONONE and single bond directions set to NONE.\n",
      "[15:48:27] Conflicting single bond directions around double bond at index 1.\n",
      "[15:48:27]   BondStereo set to STEREONONE and single bond directions set to NONE.\n"
     ]
    },
    {
     "name": "stdout",
     "output_type": "stream",
     "text": [
      "Transforming inputs to feature descriptors using morgan\n"
     ]
    },
    {
     "name": "stderr",
     "output_type": "stream",
     "text": [
      "[15:48:29] Conflicting single bond directions around double bond at index 1.\n",
      "[15:48:29]   BondStereo set to STEREONONE and single bond directions set to NONE.\n",
      "[15:48:29] Conflicting single bond directions around double bond at index 1.\n",
      "[15:48:29]   BondStereo set to STEREONONE and single bond directions set to NONE.\n",
      "[15:48:29] Conflicting single bond directions around double bond at index 1.\n",
      "[15:48:29]   BondStereo set to STEREONONE and single bond directions set to NONE.\n",
      "[15:48:29] Conflicting single bond directions around double bond at index 1.\n",
      "[15:48:29]   BondStereo set to STEREONONE and single bond directions set to NONE.\n",
      "[15:48:29] WARNING: not removing hydrogen atom without neighbors\n",
      "[15:48:29] Conflicting single bond directions around double bond at index 1.\n",
      "[15:48:29]   BondStereo set to STEREONONE and single bond directions set to NONE.\n",
      "[15:48:29] Conflicting single bond directions around double bond at index 1.\n",
      "[15:48:29]   BondStereo set to STEREONONE and single bond directions set to NONE.\n",
      "[15:48:29] Conflicting single bond directions around double bond at index 1.\n",
      "[15:48:29]   BondStereo set to STEREONONE and single bond directions set to NONE.\n",
      "[15:48:29] Conflicting single bond directions around double bond at index 1.\n",
      "[15:48:29]   BondStereo set to STEREONONE and single bond directions set to NONE.\n",
      "[15:48:29] Conflicting single bond directions around double bond at index 1.\n",
      "[15:48:29]   BondStereo set to STEREONONE and single bond directions set to NONE.\n"
     ]
    },
    {
     "name": "stdout",
     "output_type": "stream",
     "text": [
      "Performing predictions on input feature of shape: (6948, 2048)\n",
      "Total samples: 6948, positive samples: 1139, negative samples: 5809\n",
      "Maximum samples per partition: 10000, minimum samples per partition: 30\n",
      "Positive proportion: 0.16\n",
      "Original positive samples: 1139, total samples: 6948\n",
      "Maximum samples: 10000\n",
      "Sampling 1139 positive and 5809 negative samples from 6948 total samples.\n"
     ]
    },
    {
     "name": "stderr",
     "output_type": "stream",
     "text": [
      "  1%|          | 10/1000 [00:00<00:25, 38.48it/s]\n"
     ]
    },
    {
     "name": "stdout",
     "output_type": "stream",
     "text": [
      "Unique sampled indices matrix shape: (1, 6948)\n"
     ]
    },
    {
     "name": "stderr",
     "output_type": "stream",
     "text": [
      "100%|██████████| 1/1 [00:01<00:00,  1.12s/it]\n"
     ]
    },
    {
     "name": "stdout",
     "output_type": "stream",
     "text": [
      "Indices matrix shape after redundancy removal: (1, 6948)\n",
      "Original positive negative balance: positive 1139, negative 5809\n",
      "Avg positive samples: 1139.0, avg negative samples: 5809.0\n"
     ]
    },
    {
     "name": "stderr",
     "output_type": "stream",
     "text": [
      "[I 2025-07-16 15:48:34,232] A new study created in memory with name: no-name-bbb58beb-c046-4819-b673-7e05a5fa4084\n"
     ]
    },
    {
     "name": "stdout",
     "output_type": "stream",
     "text": [
      "Fitting model on 6948 samples, positive samples: 1139, negative samples: 5809, number of features 2048\n",
      "Suggested zero-shot hyperparameters: {'n_estimators': 501, 'max_features': 0.24484242524861066, 'criterion': 'entropy', 'max_leaf_nodes': 1156, 'random_state': 12032022, 'verbose': 0, 'class_weight': 'balanced_subsample'}\n",
      "Fitting...\n"
     ]
    },
    {
     "name": "stderr",
     "output_type": "stream",
     "text": [
      "[I 2025-07-16 15:49:41,783] Trial 0 finished with value: 0.9660746218162486 and parameters: {'n_estimators': 501, 'max_features': 0.24484242524861066, 'max_leaf_nodes': 1156, 'criterion': 'entropy'}. Best is trial 0 with value: 0.9660746218162486.\n",
      "[I 2025-07-16 15:51:28,417] Trial 1 finished with value: 0.9648067597828364 and parameters: {'n_estimators': 476, 'max_features': 0.4253823424614421, 'max_leaf_nodes': 2890, 'criterion': 'entropy'}. Best is trial 0 with value: 0.9660746218162486.\n"
     ]
    },
    {
     "name": "stdout",
     "output_type": "stream",
     "text": [
      "Best hyperparameters: {'n_estimators': 501, 'max_features': 0.24484242524861066, 'max_leaf_nodes': 1156, 'criterion': 'entropy', 'n_jobs': 15, 'random_state': 42, 'class_weight': 'balanced_subsample'}, Inner hyperparameter AUROC: 0.9660746218162486\n",
      "Internal AUROC CV-0: 0.9677492629645741\n",
      "Internal AUROC CV-1: 0.966379102025035\n",
      "Internal AUROC CV-2: 0.9749794596684549\n",
      "Logistic regression for calibration...\n",
      "Logistic regression fit done.\n",
      "Average AUROC: 0.9697026082193547\n",
      "Model fitted.\n",
      "Fitting completed in 260.25 seconds.\n",
      "LazyQSAR Saving model to ../checkpoints/cns\n",
      "Creating model directory: ../checkpoints/cns\n",
      "Saving reducer to ../checkpoints/cns/partition_000/reducer.joblib\n",
      "Saving model to ../checkpoints/cns/partition_000\n",
      "Saving done!\n",
      "dermatologic 116 6832\n",
      "Fitting inputs to feature descriptors using morgan\n"
     ]
    },
    {
     "name": "stderr",
     "output_type": "stream",
     "text": [
      "[15:52:52] Conflicting single bond directions around double bond at index 1.\n",
      "[15:52:52]   BondStereo set to STEREONONE and single bond directions set to NONE.\n",
      "[15:52:52] Conflicting single bond directions around double bond at index 1.\n",
      "[15:52:52]   BondStereo set to STEREONONE and single bond directions set to NONE.\n",
      "[15:52:52] Conflicting single bond directions around double bond at index 1.\n",
      "[15:52:52]   BondStereo set to STEREONONE and single bond directions set to NONE.\n",
      "[15:52:52] Conflicting single bond directions around double bond at index 1.\n",
      "[15:52:52]   BondStereo set to STEREONONE and single bond directions set to NONE.\n",
      "[15:52:52] WARNING: not removing hydrogen atom without neighbors\n",
      "[15:52:52] Conflicting single bond directions around double bond at index 1.\n",
      "[15:52:52]   BondStereo set to STEREONONE and single bond directions set to NONE.\n",
      "[15:52:52] Conflicting single bond directions around double bond at index 1.\n",
      "[15:52:52]   BondStereo set to STEREONONE and single bond directions set to NONE.\n",
      "[15:52:52] Conflicting single bond directions around double bond at index 1.\n",
      "[15:52:52]   BondStereo set to STEREONONE and single bond directions set to NONE.\n",
      "[15:52:52] Conflicting single bond directions around double bond at index 1.\n",
      "[15:52:52]   BondStereo set to STEREONONE and single bond directions set to NONE.\n",
      "[15:52:52] Conflicting single bond directions around double bond at index 1.\n",
      "[15:52:52]   BondStereo set to STEREONONE and single bond directions set to NONE.\n"
     ]
    },
    {
     "name": "stdout",
     "output_type": "stream",
     "text": [
      "Transforming inputs to feature descriptors using morgan\n"
     ]
    },
    {
     "name": "stderr",
     "output_type": "stream",
     "text": [
      "[15:52:55] Conflicting single bond directions around double bond at index 1.\n",
      "[15:52:55]   BondStereo set to STEREONONE and single bond directions set to NONE.\n",
      "[15:52:55] Conflicting single bond directions around double bond at index 1.\n",
      "[15:52:55]   BondStereo set to STEREONONE and single bond directions set to NONE.\n",
      "[15:52:55] Conflicting single bond directions around double bond at index 1.\n",
      "[15:52:55]   BondStereo set to STEREONONE and single bond directions set to NONE.\n",
      "[15:52:55] Conflicting single bond directions around double bond at index 1.\n",
      "[15:52:55]   BondStereo set to STEREONONE and single bond directions set to NONE.\n",
      "[15:52:55] WARNING: not removing hydrogen atom without neighbors\n",
      "[15:52:55] Conflicting single bond directions around double bond at index 1.\n",
      "[15:52:55]   BondStereo set to STEREONONE and single bond directions set to NONE.\n",
      "[15:52:55] Conflicting single bond directions around double bond at index 1.\n",
      "[15:52:55]   BondStereo set to STEREONONE and single bond directions set to NONE.\n",
      "[15:52:55] Conflicting single bond directions around double bond at index 1.\n",
      "[15:52:55]   BondStereo set to STEREONONE and single bond directions set to NONE.\n",
      "[15:52:55] Conflicting single bond directions around double bond at index 1.\n",
      "[15:52:55]   BondStereo set to STEREONONE and single bond directions set to NONE.\n",
      "[15:52:55] Conflicting single bond directions around double bond at index 1.\n",
      "[15:52:55]   BondStereo set to STEREONONE and single bond directions set to NONE.\n"
     ]
    },
    {
     "name": "stdout",
     "output_type": "stream",
     "text": [
      "Performing predictions on input feature of shape: (6948, 2048)\n",
      "Total samples: 6948, positive samples: 116, negative samples: 6832\n",
      "Maximum samples per partition: 10000, minimum samples per partition: 30\n",
      "Positive proportion: 0.02\n",
      "Original positive samples: 116, total samples: 6948\n",
      "Maximum samples: 10000\n",
      "Sampling 116 positive and 6832 negative samples from 6948 total samples.\n"
     ]
    },
    {
     "name": "stderr",
     "output_type": "stream",
     "text": [
      "  1%|          | 10/1000 [00:00<00:25, 39.21it/s]\n"
     ]
    },
    {
     "name": "stdout",
     "output_type": "stream",
     "text": [
      "Unique sampled indices matrix shape: (1, 6948)\n"
     ]
    },
    {
     "name": "stderr",
     "output_type": "stream",
     "text": [
      "100%|██████████| 1/1 [00:01<00:00,  1.12s/it]\n"
     ]
    },
    {
     "name": "stdout",
     "output_type": "stream",
     "text": [
      "Indices matrix shape after redundancy removal: (1, 6948)\n",
      "Original positive negative balance: positive 116, negative 6832\n",
      "Avg positive samples: 116.0, avg negative samples: 6832.0\n"
     ]
    },
    {
     "name": "stderr",
     "output_type": "stream",
     "text": [
      "[I 2025-07-16 15:53:00,376] A new study created in memory with name: no-name-e31360d1-66f7-4d35-aac2-b19c7c9f2baa\n"
     ]
    },
    {
     "name": "stdout",
     "output_type": "stream",
     "text": [
      "Fitting model on 6948 samples, positive samples: 116, negative samples: 6832, number of features 2048\n",
      "Suggested zero-shot hyperparameters: {'n_estimators': 501, 'max_features': 0.24484242524861066, 'criterion': 'entropy', 'max_leaf_nodes': 1156, 'random_state': 12032022, 'verbose': 0, 'class_weight': 'balanced_subsample'}\n",
      "Fitting...\n"
     ]
    },
    {
     "name": "stderr",
     "output_type": "stream",
     "text": [
      "[I 2025-07-16 15:54:33,958] Trial 0 finished with value: 0.9274576704621927 and parameters: {'n_estimators': 501, 'max_features': 0.24484242524861066, 'max_leaf_nodes': 1156, 'criterion': 'entropy'}. Best is trial 0 with value: 0.9274576704621927.\n",
      "[I 2025-07-16 15:57:03,001] Trial 1 finished with value: 0.9252099652749738 and parameters: {'n_estimators': 476, 'max_features': 0.4253823424614421, 'max_leaf_nodes': 2890, 'criterion': 'entropy'}. Best is trial 0 with value: 0.9274576704621927.\n"
     ]
    },
    {
     "name": "stdout",
     "output_type": "stream",
     "text": [
      "Best hyperparameters: {'n_estimators': 501, 'max_features': 0.24484242524861066, 'max_leaf_nodes': 1156, 'criterion': 'entropy', 'n_jobs': 15, 'random_state': 42, 'class_weight': 'balanced_subsample'}, Inner hyperparameter AUROC: 0.9274576704621927\n",
      "Internal AUROC CV-0: 0.9747133166437858\n",
      "Internal AUROC CV-1: 0.9648812888637648\n",
      "Internal AUROC CV-2: 0.9618226600985222\n",
      "Logistic regression for calibration...\n",
      "Logistic regression fit done.\n",
      "Average AUROC: 0.9671390885353576\n",
      "Model fitted.\n",
      "Fitting completed in 311.85 seconds.\n",
      "LazyQSAR Saving model to ../checkpoints/dermatologic\n",
      "Creating model directory: ../checkpoints/dermatologic\n",
      "Saving reducer to ../checkpoints/dermatologic/partition_000/reducer.joblib\n",
      "Saving model to ../checkpoints/dermatologic/partition_000\n",
      "Saving done!\n",
      "gastrointestinal 258 6690\n",
      "Fitting inputs to feature descriptors using morgan\n"
     ]
    },
    {
     "name": "stderr",
     "output_type": "stream",
     "text": [
      "[15:58:10] Conflicting single bond directions around double bond at index 1.\n",
      "[15:58:10]   BondStereo set to STEREONONE and single bond directions set to NONE.\n",
      "[15:58:10] Conflicting single bond directions around double bond at index 1.\n",
      "[15:58:10]   BondStereo set to STEREONONE and single bond directions set to NONE.\n",
      "[15:58:10] Conflicting single bond directions around double bond at index 1.\n",
      "[15:58:10]   BondStereo set to STEREONONE and single bond directions set to NONE.\n",
      "[15:58:10] Conflicting single bond directions around double bond at index 1.\n",
      "[15:58:10]   BondStereo set to STEREONONE and single bond directions set to NONE.\n",
      "[15:58:10] WARNING: not removing hydrogen atom without neighbors\n",
      "[15:58:10] Conflicting single bond directions around double bond at index 1.\n",
      "[15:58:10]   BondStereo set to STEREONONE and single bond directions set to NONE.\n",
      "[15:58:10] Conflicting single bond directions around double bond at index 1.\n",
      "[15:58:10]   BondStereo set to STEREONONE and single bond directions set to NONE.\n",
      "[15:58:10] Conflicting single bond directions around double bond at index 1.\n",
      "[15:58:10]   BondStereo set to STEREONONE and single bond directions set to NONE.\n",
      "[15:58:10] Conflicting single bond directions around double bond at index 1.\n",
      "[15:58:10]   BondStereo set to STEREONONE and single bond directions set to NONE.\n",
      "[15:58:10] Conflicting single bond directions around double bond at index 1.\n",
      "[15:58:10]   BondStereo set to STEREONONE and single bond directions set to NONE.\n"
     ]
    },
    {
     "name": "stdout",
     "output_type": "stream",
     "text": [
      "Transforming inputs to feature descriptors using morgan\n"
     ]
    },
    {
     "name": "stderr",
     "output_type": "stream",
     "text": [
      "[15:58:13] Conflicting single bond directions around double bond at index 1.\n",
      "[15:58:13]   BondStereo set to STEREONONE and single bond directions set to NONE.\n",
      "[15:58:13] Conflicting single bond directions around double bond at index 1.\n",
      "[15:58:13]   BondStereo set to STEREONONE and single bond directions set to NONE.\n",
      "[15:58:13] Conflicting single bond directions around double bond at index 1.\n",
      "[15:58:13]   BondStereo set to STEREONONE and single bond directions set to NONE.\n",
      "[15:58:13] Conflicting single bond directions around double bond at index 1.\n",
      "[15:58:13]   BondStereo set to STEREONONE and single bond directions set to NONE.\n",
      "[15:58:13] WARNING: not removing hydrogen atom without neighbors\n",
      "[15:58:13] Conflicting single bond directions around double bond at index 1.\n",
      "[15:58:13]   BondStereo set to STEREONONE and single bond directions set to NONE.\n",
      "[15:58:13] Conflicting single bond directions around double bond at index 1.\n",
      "[15:58:13]   BondStereo set to STEREONONE and single bond directions set to NONE.\n",
      "[15:58:13] Conflicting single bond directions around double bond at index 1.\n",
      "[15:58:13]   BondStereo set to STEREONONE and single bond directions set to NONE.\n",
      "[15:58:13] Conflicting single bond directions around double bond at index 1.\n",
      "[15:58:13]   BondStereo set to STEREONONE and single bond directions set to NONE.\n",
      "[15:58:13] Conflicting single bond directions around double bond at index 1.\n",
      "[15:58:13]   BondStereo set to STEREONONE and single bond directions set to NONE.\n"
     ]
    },
    {
     "name": "stdout",
     "output_type": "stream",
     "text": [
      "Performing predictions on input feature of shape: (6948, 2048)\n",
      "Total samples: 6948, positive samples: 258, negative samples: 6690\n",
      "Maximum samples per partition: 10000, minimum samples per partition: 30\n",
      "Positive proportion: 0.04\n",
      "Original positive samples: 258, total samples: 6948\n",
      "Maximum samples: 10000\n",
      "Sampling 258 positive and 6690 negative samples from 6948 total samples.\n"
     ]
    },
    {
     "name": "stderr",
     "output_type": "stream",
     "text": [
      "  1%|          | 10/1000 [00:00<00:28, 34.57it/s]\n"
     ]
    },
    {
     "name": "stdout",
     "output_type": "stream",
     "text": [
      "Unique sampled indices matrix shape: (1, 6948)\n"
     ]
    },
    {
     "name": "stderr",
     "output_type": "stream",
     "text": [
      "100%|██████████| 1/1 [00:00<00:00,  1.05it/s]\n"
     ]
    },
    {
     "name": "stdout",
     "output_type": "stream",
     "text": [
      "Indices matrix shape after redundancy removal: (1, 6948)\n",
      "Original positive negative balance: positive 258, negative 6690\n",
      "Avg positive samples: 258.0, avg negative samples: 6690.0\n"
     ]
    },
    {
     "name": "stderr",
     "output_type": "stream",
     "text": [
      "[I 2025-07-16 15:58:18,635] A new study created in memory with name: no-name-e54662c5-592c-4195-8026-7f1a4d807dbb\n"
     ]
    },
    {
     "name": "stdout",
     "output_type": "stream",
     "text": [
      "Fitting model on 6948 samples, positive samples: 258, negative samples: 6690, number of features 2048\n",
      "Suggested zero-shot hyperparameters: {'n_estimators': 501, 'max_features': 0.24484242524861066, 'criterion': 'entropy', 'max_leaf_nodes': 1156, 'random_state': 12032022, 'verbose': 0, 'class_weight': 'balanced_subsample'}\n",
      "Fitting...\n"
     ]
    },
    {
     "name": "stderr",
     "output_type": "stream",
     "text": [
      "[I 2025-07-16 15:59:57,696] Trial 0 finished with value: 0.9079700263996813 and parameters: {'n_estimators': 501, 'max_features': 0.24484242524861066, 'max_leaf_nodes': 1156, 'criterion': 'entropy'}. Best is trial 0 with value: 0.9079700263996813.\n",
      "[I 2025-07-16 16:02:31,162] Trial 1 finished with value: 0.9102831116756326 and parameters: {'n_estimators': 476, 'max_features': 0.4253823424614421, 'max_leaf_nodes': 2890, 'criterion': 'entropy'}. Best is trial 1 with value: 0.9102831116756326.\n"
     ]
    },
    {
     "name": "stdout",
     "output_type": "stream",
     "text": [
      "Best hyperparameters: {'n_estimators': 476, 'max_features': 0.4253823424614421, 'max_leaf_nodes': 2890, 'criterion': 'entropy', 'n_jobs': 15, 'random_state': 42, 'class_weight': 'balanced_subsample'}, Inner hyperparameter AUROC: 0.9102831116756326\n",
      "Internal AUROC CV-0: 0.9312658771667663\n",
      "Internal AUROC CV-1: 0.9776645621637776\n",
      "Internal AUROC CV-2: 0.95990081440526\n",
      "Logistic regression for calibration...\n",
      "Logistic regression fit done.\n",
      "Average AUROC: 0.9562770845786014\n",
      "Model fitted.\n",
      "Fitting completed in 359.57 seconds.\n",
      "LazyQSAR Saving model to ../checkpoints/gastrointestinal\n",
      "Creating model directory: ../checkpoints/gastrointestinal\n",
      "Saving reducer to ../checkpoints/gastrointestinal/partition_000/reducer.joblib\n",
      "Saving model to ../checkpoints/gastrointestinal/partition_000\n",
      "Saving done!\n",
      "hematologic 267 6681\n",
      "Fitting inputs to feature descriptors using morgan\n"
     ]
    },
    {
     "name": "stderr",
     "output_type": "stream",
     "text": [
      "[16:04:16] WARNING: not removing hydrogen atom without neighbors\n",
      "[16:04:16] Conflicting single bond directions around double bond at index 1.\n",
      "[16:04:16]   BondStereo set to STEREONONE and single bond directions set to NONE.\n",
      "[16:04:16] Conflicting single bond directions around double bond at index 1.\n",
      "[16:04:16]   BondStereo set to STEREONONE and single bond directions set to NONE.\n",
      "[16:04:16] Conflicting single bond directions around double bond at index 1.\n",
      "[16:04:16]   BondStereo set to STEREONONE and single bond directions set to NONE.\n",
      "[16:04:16] Conflicting single bond directions around double bond at index 1.\n",
      "[16:04:16]   BondStereo set to STEREONONE and single bond directions set to NONE.\n",
      "[16:04:16] Conflicting single bond directions around double bond at index 1.\n",
      "[16:04:16]   BondStereo set to STEREONONE and single bond directions set to NONE.\n",
      "[16:04:16] Conflicting single bond directions around double bond at index 1.\n",
      "[16:04:16]   BondStereo set to STEREONONE and single bond directions set to NONE.\n",
      "[16:04:16] Conflicting single bond directions around double bond at index 1.\n",
      "[16:04:16]   BondStereo set to STEREONONE and single bond directions set to NONE.\n",
      "[16:04:16] Conflicting single bond directions around double bond at index 1.\n",
      "[16:04:16]   BondStereo set to STEREONONE and single bond directions set to NONE.\n",
      "[16:04:16] Conflicting single bond directions around double bond at index 1.\n",
      "[16:04:16]   BondStereo set to STEREONONE and single bond directions set to NONE.\n"
     ]
    },
    {
     "name": "stdout",
     "output_type": "stream",
     "text": [
      "Transforming inputs to feature descriptors using morgan\n"
     ]
    },
    {
     "name": "stderr",
     "output_type": "stream",
     "text": [
      "[16:04:19] WARNING: not removing hydrogen atom without neighbors\n",
      "[16:04:19] Conflicting single bond directions around double bond at index 1.\n",
      "[16:04:19]   BondStereo set to STEREONONE and single bond directions set to NONE.\n",
      "[16:04:19] Conflicting single bond directions around double bond at index 1.\n",
      "[16:04:19]   BondStereo set to STEREONONE and single bond directions set to NONE.\n",
      "[16:04:19] Conflicting single bond directions around double bond at index 1.\n",
      "[16:04:19]   BondStereo set to STEREONONE and single bond directions set to NONE.\n",
      "[16:04:19] Conflicting single bond directions around double bond at index 1.\n",
      "[16:04:19]   BondStereo set to STEREONONE and single bond directions set to NONE.\n",
      "[16:04:19] Conflicting single bond directions around double bond at index 1.\n",
      "[16:04:19]   BondStereo set to STEREONONE and single bond directions set to NONE.\n",
      "[16:04:19] Conflicting single bond directions around double bond at index 1.\n",
      "[16:04:19]   BondStereo set to STEREONONE and single bond directions set to NONE.\n",
      "[16:04:19] Conflicting single bond directions around double bond at index 1.\n",
      "[16:04:19]   BondStereo set to STEREONONE and single bond directions set to NONE.\n",
      "[16:04:19] Conflicting single bond directions around double bond at index 1.\n",
      "[16:04:19]   BondStereo set to STEREONONE and single bond directions set to NONE.\n",
      "[16:04:19] Conflicting single bond directions around double bond at index 1.\n",
      "[16:04:19]   BondStereo set to STEREONONE and single bond directions set to NONE.\n"
     ]
    },
    {
     "name": "stdout",
     "output_type": "stream",
     "text": [
      "Performing predictions on input feature of shape: (6948, 2048)\n",
      "Total samples: 6948, positive samples: 267, negative samples: 6681\n",
      "Maximum samples per partition: 10000, minimum samples per partition: 30\n",
      "Positive proportion: 0.04\n",
      "Original positive samples: 267, total samples: 6948\n",
      "Maximum samples: 10000\n",
      "Sampling 267 positive and 6681 negative samples from 6948 total samples.\n"
     ]
    },
    {
     "name": "stderr",
     "output_type": "stream",
     "text": [
      "  1%|          | 10/1000 [00:00<00:29, 33.24it/s]\n"
     ]
    },
    {
     "name": "stdout",
     "output_type": "stream",
     "text": [
      "Unique sampled indices matrix shape: (1, 6948)\n"
     ]
    },
    {
     "name": "stderr",
     "output_type": "stream",
     "text": [
      "100%|██████████| 1/1 [00:01<00:00,  1.29s/it]\n"
     ]
    },
    {
     "name": "stdout",
     "output_type": "stream",
     "text": [
      "Indices matrix shape after redundancy removal: (1, 6948)\n",
      "Original positive negative balance: positive 267, negative 6681\n",
      "Avg positive samples: 267.0, avg negative samples: 6681.0\n"
     ]
    },
    {
     "name": "stderr",
     "output_type": "stream",
     "text": [
      "[I 2025-07-16 16:04:24,119] A new study created in memory with name: no-name-bac945b8-52cd-4bee-b35f-98b82eb68d5e\n"
     ]
    },
    {
     "name": "stdout",
     "output_type": "stream",
     "text": [
      "Fitting model on 6948 samples, positive samples: 267, negative samples: 6681, number of features 2048\n",
      "Suggested zero-shot hyperparameters: {'n_estimators': 501, 'max_features': 0.24484242524861066, 'criterion': 'entropy', 'max_leaf_nodes': 1156, 'random_state': 12032022, 'verbose': 0, 'class_weight': 'balanced_subsample'}\n",
      "Fitting...\n"
     ]
    },
    {
     "name": "stderr",
     "output_type": "stream",
     "text": [
      "[I 2025-07-16 16:06:05,025] Trial 0 finished with value: 0.9354738284624782 and parameters: {'n_estimators': 501, 'max_features': 0.24484242524861066, 'max_leaf_nodes': 1156, 'criterion': 'entropy'}. Best is trial 0 with value: 0.9354738284624782.\n",
      "[I 2025-07-16 16:08:43,391] Trial 1 finished with value: 0.9349986593976226 and parameters: {'n_estimators': 476, 'max_features': 0.4253823424614421, 'max_leaf_nodes': 2890, 'criterion': 'entropy'}. Best is trial 0 with value: 0.9354738284624782.\n"
     ]
    },
    {
     "name": "stdout",
     "output_type": "stream",
     "text": [
      "Best hyperparameters: {'n_estimators': 501, 'max_features': 0.24484242524861066, 'max_leaf_nodes': 1156, 'criterion': 'entropy', 'n_jobs': 15, 'random_state': 42, 'class_weight': 'balanced_subsample'}, Inner hyperparameter AUROC: 0.9354738284624782\n",
      "Internal AUROC CV-0: 0.9648181249441415\n",
      "Internal AUROC CV-1: 0.9685807489498615\n",
      "Internal AUROC CV-2: 0.9536017517204396\n",
      "Logistic regression for calibration...\n",
      "Logistic regression fit done.\n",
      "Average AUROC: 0.9623335418714808\n",
      "Model fitted.\n",
      "Fitting completed in 336.56 seconds.\n",
      "LazyQSAR Saving model to ../checkpoints/hematologic\n",
      "Creating model directory: ../checkpoints/hematologic\n",
      "Saving reducer to ../checkpoints/hematologic/partition_000/reducer.joblib\n",
      "Saving model to ../checkpoints/hematologic/partition_000\n",
      "Saving done!\n",
      "lipidregulating 164 6784\n",
      "Fitting inputs to feature descriptors using morgan\n"
     ]
    },
    {
     "name": "stderr",
     "output_type": "stream",
     "text": [
      "[16:09:58] Conflicting single bond directions around double bond at index 1.\n",
      "[16:09:58]   BondStereo set to STEREONONE and single bond directions set to NONE.\n",
      "[16:09:58] Conflicting single bond directions around double bond at index 1.\n",
      "[16:09:58]   BondStereo set to STEREONONE and single bond directions set to NONE.\n",
      "[16:09:58] Conflicting single bond directions around double bond at index 1.\n",
      "[16:09:58]   BondStereo set to STEREONONE and single bond directions set to NONE.\n",
      "[16:09:58] Conflicting single bond directions around double bond at index 1.\n",
      "[16:09:58]   BondStereo set to STEREONONE and single bond directions set to NONE.\n",
      "[16:09:58] WARNING: not removing hydrogen atom without neighbors\n",
      "[16:09:58] Conflicting single bond directions around double bond at index 1.\n",
      "[16:09:58]   BondStereo set to STEREONONE and single bond directions set to NONE.\n",
      "[16:09:58] Conflicting single bond directions around double bond at index 1.\n",
      "[16:09:58]   BondStereo set to STEREONONE and single bond directions set to NONE.\n",
      "[16:09:58] Conflicting single bond directions around double bond at index 1.\n",
      "[16:09:58]   BondStereo set to STEREONONE and single bond directions set to NONE.\n",
      "[16:09:58] Conflicting single bond directions around double bond at index 1.\n",
      "[16:09:58]   BondStereo set to STEREONONE and single bond directions set to NONE.\n",
      "[16:09:58] Conflicting single bond directions around double bond at index 1.\n",
      "[16:09:58]   BondStereo set to STEREONONE and single bond directions set to NONE.\n"
     ]
    },
    {
     "name": "stdout",
     "output_type": "stream",
     "text": [
      "Transforming inputs to feature descriptors using morgan\n"
     ]
    },
    {
     "name": "stderr",
     "output_type": "stream",
     "text": [
      "[16:10:02] Conflicting single bond directions around double bond at index 1.\n",
      "[16:10:02]   BondStereo set to STEREONONE and single bond directions set to NONE.\n",
      "[16:10:02] Conflicting single bond directions around double bond at index 1.\n",
      "[16:10:02]   BondStereo set to STEREONONE and single bond directions set to NONE.\n",
      "[16:10:02] Conflicting single bond directions around double bond at index 1.\n",
      "[16:10:02]   BondStereo set to STEREONONE and single bond directions set to NONE.\n",
      "[16:10:02] Conflicting single bond directions around double bond at index 1.\n",
      "[16:10:02]   BondStereo set to STEREONONE and single bond directions set to NONE.\n",
      "[16:10:02] WARNING: not removing hydrogen atom without neighbors\n",
      "[16:10:02] Conflicting single bond directions around double bond at index 1.\n",
      "[16:10:02]   BondStereo set to STEREONONE and single bond directions set to NONE.\n",
      "[16:10:02] Conflicting single bond directions around double bond at index 1.\n",
      "[16:10:02]   BondStereo set to STEREONONE and single bond directions set to NONE.\n",
      "[16:10:02] Conflicting single bond directions around double bond at index 1.\n",
      "[16:10:02]   BondStereo set to STEREONONE and single bond directions set to NONE.\n",
      "[16:10:02] Conflicting single bond directions around double bond at index 1.\n",
      "[16:10:02]   BondStereo set to STEREONONE and single bond directions set to NONE.\n",
      "[16:10:02] Conflicting single bond directions around double bond at index 1.\n",
      "[16:10:02]   BondStereo set to STEREONONE and single bond directions set to NONE.\n"
     ]
    },
    {
     "name": "stdout",
     "output_type": "stream",
     "text": [
      "Performing predictions on input feature of shape: (6948, 2048)\n",
      "Total samples: 6948, positive samples: 164, negative samples: 6784\n",
      "Maximum samples per partition: 10000, minimum samples per partition: 30\n",
      "Positive proportion: 0.02\n",
      "Original positive samples: 164, total samples: 6948\n",
      "Maximum samples: 10000\n",
      "Sampling 164 positive and 6784 negative samples from 6948 total samples.\n"
     ]
    },
    {
     "name": "stderr",
     "output_type": "stream",
     "text": [
      "  1%|          | 10/1000 [00:00<00:25, 38.89it/s]\n"
     ]
    },
    {
     "name": "stdout",
     "output_type": "stream",
     "text": [
      "Unique sampled indices matrix shape: (1, 6948)\n"
     ]
    },
    {
     "name": "stderr",
     "output_type": "stream",
     "text": [
      "100%|██████████| 1/1 [00:01<00:00,  1.29s/it]\n"
     ]
    },
    {
     "name": "stdout",
     "output_type": "stream",
     "text": [
      "Indices matrix shape after redundancy removal: (1, 6948)\n",
      "Original positive negative balance: positive 164, negative 6784\n",
      "Avg positive samples: 164.0, avg negative samples: 6784.0\n"
     ]
    },
    {
     "name": "stderr",
     "output_type": "stream",
     "text": [
      "[I 2025-07-16 16:10:07,782] A new study created in memory with name: no-name-0ded57f9-87e5-4cc7-9664-186c3d425ae1\n"
     ]
    },
    {
     "name": "stdout",
     "output_type": "stream",
     "text": [
      "Fitting model on 6948 samples, positive samples: 164, negative samples: 6784, number of features 2048\n",
      "Suggested zero-shot hyperparameters: {'n_estimators': 501, 'max_features': 0.24484242524861066, 'criterion': 'entropy', 'max_leaf_nodes': 1156, 'random_state': 12032022, 'verbose': 0, 'class_weight': 'balanced_subsample'}\n",
      "Fitting...\n"
     ]
    },
    {
     "name": "stderr",
     "output_type": "stream",
     "text": [
      "[I 2025-07-16 16:11:30,195] Trial 0 finished with value: 0.9224814005215523 and parameters: {'n_estimators': 501, 'max_features': 0.24484242524861066, 'max_leaf_nodes': 1156, 'criterion': 'entropy'}. Best is trial 0 with value: 0.9224814005215523.\n",
      "[I 2025-07-16 16:13:29,969] Trial 1 finished with value: 0.9223327964411719 and parameters: {'n_estimators': 476, 'max_features': 0.4253823424614421, 'max_leaf_nodes': 2890, 'criterion': 'entropy'}. Best is trial 0 with value: 0.9224814005215523.\n"
     ]
    },
    {
     "name": "stdout",
     "output_type": "stream",
     "text": [
      "Best hyperparameters: {'n_estimators': 501, 'max_features': 0.24484242524861066, 'max_leaf_nodes': 1156, 'criterion': 'entropy', 'n_jobs': 15, 'random_state': 42, 'class_weight': 'balanced_subsample'}, Inner hyperparameter AUROC: 0.9224814005215523\n",
      "Internal AUROC CV-0: 0.9227162908421537\n",
      "Internal AUROC CV-1: 0.9508024620340543\n",
      "Internal AUROC CV-2: 0.9431014150943395\n",
      "Logistic regression for calibration...\n",
      "Logistic regression fit done.\n",
      "Average AUROC: 0.9388733893235157\n",
      "Model fitted.\n",
      "Fitting completed in 263.84 seconds.\n",
      "LazyQSAR Saving model to ../checkpoints/lipidregulating\n",
      "Creating model directory: ../checkpoints/lipidregulating\n",
      "Saving reducer to ../checkpoints/lipidregulating/partition_000/reducer.joblib\n",
      "Saving model to ../checkpoints/lipidregulating/partition_000\n",
      "Saving done!\n",
      "reproductivecontrol 148 6800\n",
      "Fitting inputs to feature descriptors using morgan\n"
     ]
    },
    {
     "name": "stderr",
     "output_type": "stream",
     "text": [
      "[16:14:29] Conflicting single bond directions around double bond at index 1.\n",
      "[16:14:29]   BondStereo set to STEREONONE and single bond directions set to NONE.\n",
      "[16:14:29] Conflicting single bond directions around double bond at index 1.\n",
      "[16:14:29]   BondStereo set to STEREONONE and single bond directions set to NONE.\n",
      "[16:14:29] Conflicting single bond directions around double bond at index 1.\n",
      "[16:14:29]   BondStereo set to STEREONONE and single bond directions set to NONE.\n",
      "[16:14:29] Conflicting single bond directions around double bond at index 1.\n",
      "[16:14:29]   BondStereo set to STEREONONE and single bond directions set to NONE.\n",
      "[16:14:29] WARNING: not removing hydrogen atom without neighbors\n",
      "[16:14:29] Conflicting single bond directions around double bond at index 1.\n",
      "[16:14:29]   BondStereo set to STEREONONE and single bond directions set to NONE.\n",
      "[16:14:29] Conflicting single bond directions around double bond at index 1.\n",
      "[16:14:29]   BondStereo set to STEREONONE and single bond directions set to NONE.\n",
      "[16:14:29] Conflicting single bond directions around double bond at index 1.\n",
      "[16:14:29]   BondStereo set to STEREONONE and single bond directions set to NONE.\n",
      "[16:14:29] Conflicting single bond directions around double bond at index 1.\n",
      "[16:14:29]   BondStereo set to STEREONONE and single bond directions set to NONE.\n",
      "[16:14:29] Conflicting single bond directions around double bond at index 1.\n",
      "[16:14:29]   BondStereo set to STEREONONE and single bond directions set to NONE.\n"
     ]
    },
    {
     "name": "stdout",
     "output_type": "stream",
     "text": [
      "Transforming inputs to feature descriptors using morgan\n"
     ]
    },
    {
     "name": "stderr",
     "output_type": "stream",
     "text": [
      "[16:14:31] Conflicting single bond directions around double bond at index 1.\n",
      "[16:14:31]   BondStereo set to STEREONONE and single bond directions set to NONE.\n",
      "[16:14:31] Conflicting single bond directions around double bond at index 1.\n",
      "[16:14:31]   BondStereo set to STEREONONE and single bond directions set to NONE.\n",
      "[16:14:31] Conflicting single bond directions around double bond at index 1.\n",
      "[16:14:31]   BondStereo set to STEREONONE and single bond directions set to NONE.\n",
      "[16:14:31] Conflicting single bond directions around double bond at index 1.\n",
      "[16:14:31]   BondStereo set to STEREONONE and single bond directions set to NONE.\n",
      "[16:14:31] WARNING: not removing hydrogen atom without neighbors\n",
      "[16:14:31] Conflicting single bond directions around double bond at index 1.\n",
      "[16:14:31]   BondStereo set to STEREONONE and single bond directions set to NONE.\n",
      "[16:14:31] Conflicting single bond directions around double bond at index 1.\n",
      "[16:14:31]   BondStereo set to STEREONONE and single bond directions set to NONE.\n",
      "[16:14:31] Conflicting single bond directions around double bond at index 1.\n",
      "[16:14:31]   BondStereo set to STEREONONE and single bond directions set to NONE.\n",
      "[16:14:31] Conflicting single bond directions around double bond at index 1.\n",
      "[16:14:31]   BondStereo set to STEREONONE and single bond directions set to NONE.\n",
      "[16:14:31] Conflicting single bond directions around double bond at index 1.\n",
      "[16:14:31]   BondStereo set to STEREONONE and single bond directions set to NONE.\n"
     ]
    },
    {
     "name": "stdout",
     "output_type": "stream",
     "text": [
      "Performing predictions on input feature of shape: (6948, 2048)\n",
      "Total samples: 6948, positive samples: 148, negative samples: 6800\n",
      "Maximum samples per partition: 10000, minimum samples per partition: 30\n",
      "Positive proportion: 0.02\n",
      "Original positive samples: 148, total samples: 6948\n",
      "Maximum samples: 10000\n",
      "Sampling 148 positive and 6800 negative samples from 6948 total samples.\n"
     ]
    },
    {
     "name": "stderr",
     "output_type": "stream",
     "text": [
      "  1%|          | 10/1000 [00:00<00:22, 43.16it/s]\n"
     ]
    },
    {
     "name": "stdout",
     "output_type": "stream",
     "text": [
      "Unique sampled indices matrix shape: (1, 6948)\n"
     ]
    },
    {
     "name": "stderr",
     "output_type": "stream",
     "text": [
      "100%|██████████| 1/1 [00:00<00:00,  1.27it/s]\n"
     ]
    },
    {
     "name": "stdout",
     "output_type": "stream",
     "text": [
      "Indices matrix shape after redundancy removal: (1, 6948)\n",
      "Original positive negative balance: positive 148, negative 6800\n",
      "Avg positive samples: 148.0, avg negative samples: 6800.0\n"
     ]
    },
    {
     "name": "stderr",
     "output_type": "stream",
     "text": [
      "[I 2025-07-16 16:14:35,804] A new study created in memory with name: no-name-6826ff3d-a729-4a2c-ab93-f6f354645fbe\n"
     ]
    },
    {
     "name": "stdout",
     "output_type": "stream",
     "text": [
      "Fitting model on 6948 samples, positive samples: 148, negative samples: 6800, number of features 2048\n",
      "Suggested zero-shot hyperparameters: {'n_estimators': 501, 'max_features': 0.24484242524861066, 'criterion': 'entropy', 'max_leaf_nodes': 1156, 'random_state': 12032022, 'verbose': 0, 'class_weight': 'balanced_subsample'}\n",
      "Fitting...\n"
     ]
    },
    {
     "name": "stderr",
     "output_type": "stream",
     "text": [
      "[I 2025-07-16 16:15:41,819] Trial 0 finished with value: 0.9799867514573397 and parameters: {'n_estimators': 501, 'max_features': 0.24484242524861066, 'max_leaf_nodes': 1156, 'criterion': 'entropy'}. Best is trial 0 with value: 0.9799867514573397.\n",
      "[I 2025-07-16 16:17:21,473] Trial 1 finished with value: 0.9798118706942237 and parameters: {'n_estimators': 476, 'max_features': 0.4253823424614421, 'max_leaf_nodes': 2890, 'criterion': 'entropy'}. Best is trial 0 with value: 0.9799867514573397.\n"
     ]
    },
    {
     "name": "stdout",
     "output_type": "stream",
     "text": [
      "Best hyperparameters: {'n_estimators': 501, 'max_features': 0.24484242524861066, 'max_leaf_nodes': 1156, 'criterion': 'entropy', 'n_jobs': 15, 'random_state': 42, 'class_weight': 'balanced_subsample'}, Inner hyperparameter AUROC: 0.9799867514573397\n",
      "Internal AUROC CV-0: 0.979356120826709\n",
      "Internal AUROC CV-1: 0.9723926868044515\n",
      "Internal AUROC CV-2: 0.9993243243243244\n",
      "Logistic regression for calibration...\n",
      "Logistic regression fit done.\n",
      "Average AUROC: 0.9836910439851616\n",
      "Model fitted.\n",
      "Fitting completed in 219.38 seconds.\n",
      "LazyQSAR Saving model to ../checkpoints/reproductivecontrol\n",
      "Creating model directory: ../checkpoints/reproductivecontrol\n",
      "Saving reducer to ../checkpoints/reproductivecontrol/partition_000/reducer.joblib\n",
      "Saving model to ../checkpoints/reproductivecontrol/partition_000\n",
      "Saving done!\n",
      "respiratorysystem 101 6847\n",
      "Fitting inputs to feature descriptors using morgan\n"
     ]
    },
    {
     "name": "stderr",
     "output_type": "stream",
     "text": [
      "[16:18:13] Conflicting single bond directions around double bond at index 1.\n",
      "[16:18:13]   BondStereo set to STEREONONE and single bond directions set to NONE.\n",
      "[16:18:13] Conflicting single bond directions around double bond at index 1.\n",
      "[16:18:13]   BondStereo set to STEREONONE and single bond directions set to NONE.\n",
      "[16:18:13] Conflicting single bond directions around double bond at index 1.\n",
      "[16:18:13]   BondStereo set to STEREONONE and single bond directions set to NONE.\n",
      "[16:18:13] Conflicting single bond directions around double bond at index 1.\n",
      "[16:18:13]   BondStereo set to STEREONONE and single bond directions set to NONE.\n",
      "[16:18:13] WARNING: not removing hydrogen atom without neighbors\n",
      "[16:18:13] Conflicting single bond directions around double bond at index 1.\n",
      "[16:18:13]   BondStereo set to STEREONONE and single bond directions set to NONE.\n",
      "[16:18:13] Conflicting single bond directions around double bond at index 1.\n",
      "[16:18:13]   BondStereo set to STEREONONE and single bond directions set to NONE.\n",
      "[16:18:13] Conflicting single bond directions around double bond at index 1.\n",
      "[16:18:13]   BondStereo set to STEREONONE and single bond directions set to NONE.\n",
      "[16:18:13] Conflicting single bond directions around double bond at index 1.\n",
      "[16:18:13]   BondStereo set to STEREONONE and single bond directions set to NONE.\n",
      "[16:18:13] Conflicting single bond directions around double bond at index 1.\n",
      "[16:18:13]   BondStereo set to STEREONONE and single bond directions set to NONE.\n"
     ]
    },
    {
     "name": "stdout",
     "output_type": "stream",
     "text": [
      "Transforming inputs to feature descriptors using morgan\n"
     ]
    },
    {
     "name": "stderr",
     "output_type": "stream",
     "text": [
      "[16:18:15] Conflicting single bond directions around double bond at index 1.\n",
      "[16:18:15]   BondStereo set to STEREONONE and single bond directions set to NONE.\n",
      "[16:18:15] Conflicting single bond directions around double bond at index 1.\n",
      "[16:18:15]   BondStereo set to STEREONONE and single bond directions set to NONE.\n",
      "[16:18:15] Conflicting single bond directions around double bond at index 1.\n",
      "[16:18:15]   BondStereo set to STEREONONE and single bond directions set to NONE.\n",
      "[16:18:15] Conflicting single bond directions around double bond at index 1.\n",
      "[16:18:15]   BondStereo set to STEREONONE and single bond directions set to NONE.\n",
      "[16:18:15] WARNING: not removing hydrogen atom without neighbors\n",
      "[16:18:15] Conflicting single bond directions around double bond at index 1.\n",
      "[16:18:15]   BondStereo set to STEREONONE and single bond directions set to NONE.\n",
      "[16:18:15] Conflicting single bond directions around double bond at index 1.\n",
      "[16:18:15]   BondStereo set to STEREONONE and single bond directions set to NONE.\n",
      "[16:18:15] Conflicting single bond directions around double bond at index 1.\n",
      "[16:18:15]   BondStereo set to STEREONONE and single bond directions set to NONE.\n",
      "[16:18:15] Conflicting single bond directions around double bond at index 1.\n",
      "[16:18:15]   BondStereo set to STEREONONE and single bond directions set to NONE.\n",
      "[16:18:15] Conflicting single bond directions around double bond at index 1.\n",
      "[16:18:15]   BondStereo set to STEREONONE and single bond directions set to NONE.\n"
     ]
    },
    {
     "name": "stdout",
     "output_type": "stream",
     "text": [
      "Performing predictions on input feature of shape: (6948, 2048)\n",
      "Total samples: 6948, positive samples: 101, negative samples: 6847\n",
      "Maximum samples per partition: 10000, minimum samples per partition: 30\n",
      "Positive proportion: 0.01\n",
      "Original positive samples: 101, total samples: 6948\n",
      "Maximum samples: 10000\n",
      "Sampling 101 positive and 6847 negative samples from 6948 total samples.\n"
     ]
    },
    {
     "name": "stderr",
     "output_type": "stream",
     "text": [
      "  1%|          | 10/1000 [00:00<00:19, 52.08it/s]\n"
     ]
    },
    {
     "name": "stdout",
     "output_type": "stream",
     "text": [
      "Unique sampled indices matrix shape: (1, 6948)\n"
     ]
    },
    {
     "name": "stderr",
     "output_type": "stream",
     "text": [
      "100%|██████████| 1/1 [00:00<00:00,  1.67it/s]\n"
     ]
    },
    {
     "name": "stdout",
     "output_type": "stream",
     "text": [
      "Indices matrix shape after redundancy removal: (1, 6948)\n",
      "Original positive negative balance: positive 101, negative 6847\n",
      "Avg positive samples: 101.0, avg negative samples: 6847.0\n"
     ]
    },
    {
     "name": "stderr",
     "output_type": "stream",
     "text": [
      "[I 2025-07-16 16:18:19,423] A new study created in memory with name: no-name-d679d0ed-6b55-4dcf-9ad2-3165cff0b217\n"
     ]
    },
    {
     "name": "stdout",
     "output_type": "stream",
     "text": [
      "Fitting model on 6948 samples, positive samples: 101, negative samples: 6847, number of features 2048\n",
      "Suggested zero-shot hyperparameters: {'n_estimators': 501, 'max_features': 0.24484242524861066, 'criterion': 'entropy', 'max_leaf_nodes': 1156, 'random_state': 12032022, 'verbose': 0, 'class_weight': 'balanced_subsample'}\n",
      "Fitting...\n"
     ]
    },
    {
     "name": "stderr",
     "output_type": "stream",
     "text": [
      "[I 2025-07-16 16:19:28,907] Trial 0 finished with value: 0.9436253894080996 and parameters: {'n_estimators': 501, 'max_features': 0.24484242524861066, 'max_leaf_nodes': 1156, 'criterion': 'entropy'}. Best is trial 0 with value: 0.9436253894080996.\n",
      "[I 2025-07-16 16:21:14,218] Trial 1 finished with value: 0.9481658878504673 and parameters: {'n_estimators': 476, 'max_features': 0.4253823424614421, 'max_leaf_nodes': 2890, 'criterion': 'entropy'}. Best is trial 1 with value: 0.9481658878504673.\n"
     ]
    },
    {
     "name": "stdout",
     "output_type": "stream",
     "text": [
      "Best hyperparameters: {'n_estimators': 476, 'max_features': 0.4253823424614421, 'max_leaf_nodes': 2890, 'criterion': 'entropy', 'n_jobs': 15, 'random_state': 42, 'class_weight': 'balanced_subsample'}, Inner hyperparameter AUROC: 0.9481658878504673\n",
      "Internal AUROC CV-0: 0.9785046728971962\n",
      "Internal AUROC CV-1: 0.914556074766355\n",
      "Internal AUROC CV-2: 0.8942990654205608\n",
      "Logistic regression for calibration...\n",
      "Logistic regression fit done.\n",
      "Average AUROC: 0.929119937694704\n",
      "Model fitted.\n",
      "Fitting completed in 249.83 seconds.\n",
      "LazyQSAR Saving model to ../checkpoints/respiratorysystem\n",
      "Creating model directory: ../checkpoints/respiratorysystem\n",
      "Saving reducer to ../checkpoints/respiratorysystem/partition_000/reducer.joblib\n",
      "Saving model to ../checkpoints/respiratorysystem/partition_000\n",
      "Saving done!\n",
      "urological 26 6922\n",
      "Fitting inputs to feature descriptors using morgan\n"
     ]
    },
    {
     "name": "stderr",
     "output_type": "stream",
     "text": [
      "[16:22:27] Conflicting single bond directions around double bond at index 1.\n",
      "[16:22:27]   BondStereo set to STEREONONE and single bond directions set to NONE.\n",
      "[16:22:27] Conflicting single bond directions around double bond at index 1.\n",
      "[16:22:27]   BondStereo set to STEREONONE and single bond directions set to NONE.\n",
      "[16:22:27] Conflicting single bond directions around double bond at index 1.\n",
      "[16:22:27]   BondStereo set to STEREONONE and single bond directions set to NONE.\n",
      "[16:22:27] Conflicting single bond directions around double bond at index 1.\n",
      "[16:22:27]   BondStereo set to STEREONONE and single bond directions set to NONE.\n",
      "[16:22:27] WARNING: not removing hydrogen atom without neighbors\n",
      "[16:22:27] Conflicting single bond directions around double bond at index 1.\n",
      "[16:22:27]   BondStereo set to STEREONONE and single bond directions set to NONE.\n",
      "[16:22:27] Conflicting single bond directions around double bond at index 1.\n",
      "[16:22:27]   BondStereo set to STEREONONE and single bond directions set to NONE.\n",
      "[16:22:27] Conflicting single bond directions around double bond at index 1.\n",
      "[16:22:27]   BondStereo set to STEREONONE and single bond directions set to NONE.\n",
      "[16:22:27] Conflicting single bond directions around double bond at index 1.\n",
      "[16:22:27]   BondStereo set to STEREONONE and single bond directions set to NONE.\n",
      "[16:22:27] Conflicting single bond directions around double bond at index 1.\n",
      "[16:22:27]   BondStereo set to STEREONONE and single bond directions set to NONE.\n"
     ]
    },
    {
     "name": "stdout",
     "output_type": "stream",
     "text": [
      "Transforming inputs to feature descriptors using morgan\n"
     ]
    },
    {
     "name": "stderr",
     "output_type": "stream",
     "text": [
      "[16:22:30] Conflicting single bond directions around double bond at index 1.\n",
      "[16:22:30]   BondStereo set to STEREONONE and single bond directions set to NONE.\n",
      "[16:22:30] Conflicting single bond directions around double bond at index 1.\n",
      "[16:22:30]   BondStereo set to STEREONONE and single bond directions set to NONE.\n",
      "[16:22:30] Conflicting single bond directions around double bond at index 1.\n",
      "[16:22:30]   BondStereo set to STEREONONE and single bond directions set to NONE.\n",
      "[16:22:30] Conflicting single bond directions around double bond at index 1.\n",
      "[16:22:30]   BondStereo set to STEREONONE and single bond directions set to NONE.\n",
      "[16:22:30] WARNING: not removing hydrogen atom without neighbors\n",
      "[16:22:30] Conflicting single bond directions around double bond at index 1.\n",
      "[16:22:30]   BondStereo set to STEREONONE and single bond directions set to NONE.\n",
      "[16:22:30] Conflicting single bond directions around double bond at index 1.\n",
      "[16:22:30]   BondStereo set to STEREONONE and single bond directions set to NONE.\n",
      "[16:22:30] Conflicting single bond directions around double bond at index 1.\n",
      "[16:22:30]   BondStereo set to STEREONONE and single bond directions set to NONE.\n",
      "[16:22:30] Conflicting single bond directions around double bond at index 1.\n",
      "[16:22:30]   BondStereo set to STEREONONE and single bond directions set to NONE.\n",
      "[16:22:30] Conflicting single bond directions around double bond at index 1.\n",
      "[16:22:30]   BondStereo set to STEREONONE and single bond directions set to NONE.\n"
     ]
    },
    {
     "name": "stdout",
     "output_type": "stream",
     "text": [
      "Performing predictions on input feature of shape: (6948, 2048)\n",
      "Total samples: 6948, positive samples: 26, negative samples: 6922\n",
      "Maximum samples per partition: 10000, minimum samples per partition: 30\n",
      "Positive proportion: 0.00\n",
      "Original positive samples: 26, total samples: 6948\n",
      "Maximum samples: 10000\n",
      "Sampling 26 positive and 2574 negative samples from 2600 total samples.\n"
     ]
    },
    {
     "name": "stderr",
     "output_type": "stream",
     "text": [
      "  1%|          | 8/1000 [00:00<00:12, 80.34it/s]\n"
     ]
    },
    {
     "name": "stdout",
     "output_type": "stream",
     "text": [
      "All indices seen at least 1 times. Stopping sampling.\n",
      "Unique sampled indices matrix shape: (9, 2600)\n"
     ]
    },
    {
     "name": "stderr",
     "output_type": "stream",
     "text": [
      "100%|██████████| 9/9 [00:02<00:00,  3.17it/s]\n"
     ]
    },
    {
     "name": "stdout",
     "output_type": "stream",
     "text": [
      "Indices matrix shape after redundancy removal: (4, 2600)\n",
      "Original positive negative balance: positive 26, negative 6922\n",
      "Avg positive samples: 26.0, avg negative samples: 2574.0\n"
     ]
    },
    {
     "name": "stderr",
     "output_type": "stream",
     "text": [
      "[I 2025-07-16 16:22:35,433] A new study created in memory with name: no-name-0cd5033b-60c4-4fe8-8eac-2660b08ad675\n"
     ]
    },
    {
     "name": "stdout",
     "output_type": "stream",
     "text": [
      "Fitting model on 2600 samples, positive samples: 26, negative samples: 2574, number of features 2048\n",
      "Suggested zero-shot hyperparameters: {'n_estimators': 501, 'max_features': 0.24484242524861066, 'criterion': 'entropy', 'max_leaf_nodes': 1156, 'random_state': 12032022, 'verbose': 0, 'class_weight': 'balanced_subsample'}\n",
      "Fitting...\n"
     ]
    },
    {
     "name": "stderr",
     "output_type": "stream",
     "text": [
      "[I 2025-07-16 16:22:41,961] Trial 0 finished with value: 0.9246894409937889 and parameters: {'n_estimators': 501, 'max_features': 0.24484242524861066, 'max_leaf_nodes': 1156, 'criterion': 'entropy'}. Best is trial 0 with value: 0.9246894409937889.\n",
      "[I 2025-07-16 16:22:50,538] Trial 1 finished with value: 0.8980331262939959 and parameters: {'n_estimators': 476, 'max_features': 0.4253823424614421, 'max_leaf_nodes': 1408, 'criterion': 'entropy'}. Best is trial 0 with value: 0.9246894409937889.\n",
      "[I 2025-07-16 16:22:58,798] Trial 2 finished with value: 0.8896221532091099 and parameters: {'n_estimators': 521, 'max_features': 0.1116027783762826, 'max_leaf_nodes': 698, 'criterion': 'entropy'}. Best is trial 0 with value: 0.9246894409937889.\n",
      "[I 2025-07-16 16:23:05,574] Trial 3 finished with value: 0.8975586611456178 and parameters: {'n_estimators': 412, 'max_features': 0.39200309009026957, 'max_leaf_nodes': 1200, 'criterion': 'entropy'}. Best is trial 0 with value: 0.9246894409937889.\n",
      "[I 2025-07-16 16:23:13,898] Trial 4 finished with value: 0.9146394064872325 and parameters: {'n_estimators': 543, 'max_features': 0.058127631650270836, 'max_leaf_nodes': 1880, 'criterion': 'entropy'}. Best is trial 0 with value: 0.9246894409937889.\n",
      "[I 2025-07-16 16:23:22,280] Trial 5 pruned. \n",
      "[I 2025-07-16 16:23:22,280] Trial 6 pruned. \n",
      "[I 2025-07-16 16:23:22,281] Trial 7 pruned. \n",
      "[I 2025-07-16 16:23:22,282] Trial 8 pruned. \n",
      "[I 2025-07-16 16:23:22,283] Trial 9 pruned. \n"
     ]
    },
    {
     "name": "stdout",
     "output_type": "stream",
     "text": [
      "Early stopping: No significant improvement in the last 5 trials.\n",
      "Skipping trial due to early stopping criteria.\n",
      "Skipping trial due to early stopping criteria.\n",
      "Skipping trial due to early stopping criteria.\n",
      "Skipping trial due to early stopping criteria.\n",
      "Best hyperparameters: {'n_estimators': 501, 'max_features': 0.24484242524861066, 'max_leaf_nodes': 1156, 'criterion': 'entropy', 'n_jobs': 15, 'random_state': 42, 'class_weight': 'balanced_subsample'}, Inner hyperparameter AUROC: 0.9246894409937889\n",
      "Internal AUROC CV-0: 0.9974120082815735\n",
      "Internal AUROC CV-1: 0.9992236024844721\n",
      "Internal AUROC CV-2: 0.9371118012422361\n",
      "Logistic regression for calibration...\n",
      "Logistic regression fit done.\n",
      "Average AUROC: 0.9779158040027607\n",
      "Model fitted.\n"
     ]
    },
    {
     "name": "stderr",
     "output_type": "stream",
     "text": [
      "[I 2025-07-16 16:23:34,781] A new study created in memory with name: no-name-d970e9c7-4638-4779-8ce5-321b96e51892\n"
     ]
    },
    {
     "name": "stdout",
     "output_type": "stream",
     "text": [
      "Fitting model on 2600 samples, positive samples: 26, negative samples: 2574, number of features 2048\n",
      "Suggested zero-shot hyperparameters: {'n_estimators': 501, 'max_features': 0.24484242524861066, 'criterion': 'entropy', 'max_leaf_nodes': 1156, 'random_state': 12032022, 'verbose': 0, 'class_weight': 'balanced_subsample'}\n",
      "Fitting...\n"
     ]
    },
    {
     "name": "stderr",
     "output_type": "stream",
     "text": [
      "[I 2025-07-16 16:23:41,173] Trial 0 finished with value: 0.8818581780538302 and parameters: {'n_estimators': 501, 'max_features': 0.24484242524861066, 'max_leaf_nodes': 1156, 'criterion': 'entropy'}. Best is trial 0 with value: 0.8818581780538302.\n",
      "[I 2025-07-16 16:23:50,297] Trial 1 finished with value: 0.8670634920634921 and parameters: {'n_estimators': 476, 'max_features': 0.4253823424614421, 'max_leaf_nodes': 1408, 'criterion': 'entropy'}. Best is trial 0 with value: 0.8818581780538302.\n",
      "[I 2025-07-16 16:23:58,741] Trial 2 finished with value: 0.9098947550034507 and parameters: {'n_estimators': 521, 'max_features': 0.1116027783762826, 'max_leaf_nodes': 698, 'criterion': 'entropy'}. Best is trial 2 with value: 0.9098947550034507.\n",
      "[I 2025-07-16 16:24:05,580] Trial 3 finished with value: 0.8595583160800553 and parameters: {'n_estimators': 412, 'max_features': 0.39200309009026957, 'max_leaf_nodes': 1200, 'criterion': 'entropy'}. Best is trial 2 with value: 0.9098947550034507.\n",
      "[I 2025-07-16 16:24:13,548] Trial 4 finished with value: 0.8845755693581779 and parameters: {'n_estimators': 543, 'max_features': 0.058127631650270836, 'max_leaf_nodes': 1880, 'criterion': 'entropy'}. Best is trial 2 with value: 0.9098947550034507.\n",
      "[I 2025-07-16 16:24:22,457] Trial 5 finished with value: 0.9231797791580401 and parameters: {'n_estimators': 568, 'max_features': 0.1338404894353437, 'max_leaf_nodes': 721, 'criterion': 'entropy'}. Best is trial 5 with value: 0.9231797791580401.\n",
      "[I 2025-07-16 16:24:29,079] Trial 6 finished with value: 0.8828071083505865 and parameters: {'n_estimators': 437, 'max_features': 0.17012774507322093, 'max_leaf_nodes': 1094, 'criterion': 'entropy'}. Best is trial 5 with value: 0.9231797791580401.\n",
      "[I 2025-07-16 16:24:36,508] Trial 7 finished with value: 0.8717650103519669 and parameters: {'n_estimators': 487, 'max_features': 0.16498962001886253, 'max_leaf_nodes': 1216, 'criterion': 'entropy'}. Best is trial 5 with value: 0.9231797791580401.\n",
      "[I 2025-07-16 16:24:42,693] Trial 8 finished with value: 0.8592995169082126 and parameters: {'n_estimators': 429, 'max_features': 0.1653511015510485, 'max_leaf_nodes': 902, 'criterion': 'entropy'}. Best is trial 5 with value: 0.9231797791580401.\n",
      "[I 2025-07-16 16:24:50,128] Trial 9 finished with value: 0.8730590062111802 and parameters: {'n_estimators': 492, 'max_features': 0.360020780843327, 'max_leaf_nodes': 736, 'criterion': 'entropy'}. Best is trial 5 with value: 0.9231797791580401.\n"
     ]
    },
    {
     "name": "stdout",
     "output_type": "stream",
     "text": [
      "Best hyperparameters: {'n_estimators': 568, 'max_features': 0.1338404894353437, 'max_leaf_nodes': 721, 'criterion': 'entropy', 'n_jobs': 15, 'random_state': 42, 'class_weight': 'balanced_subsample'}, Inner hyperparameter AUROC: 0.9231797791580401\n",
      "Internal AUROC CV-0: 0.9812370600414079\n",
      "Internal AUROC CV-1: 0.9974120082815735\n",
      "Internal AUROC CV-2: 0.9241718426501035\n",
      "Logistic regression for calibration...\n",
      "Logistic regression fit done.\n",
      "Average AUROC: 0.9676069703243616\n",
      "Model fitted.\n"
     ]
    },
    {
     "name": "stderr",
     "output_type": "stream",
     "text": [
      "[I 2025-07-16 16:25:03,860] A new study created in memory with name: no-name-9b9437ef-af9a-4ae3-9b2b-02794d840224\n"
     ]
    },
    {
     "name": "stdout",
     "output_type": "stream",
     "text": [
      "Fitting model on 2600 samples, positive samples: 26, negative samples: 2574, number of features 2048\n",
      "Suggested zero-shot hyperparameters: {'n_estimators': 501, 'max_features': 0.24484242524861066, 'criterion': 'entropy', 'max_leaf_nodes': 1156, 'random_state': 12032022, 'verbose': 0, 'class_weight': 'balanced_subsample'}\n",
      "Fitting...\n"
     ]
    },
    {
     "name": "stderr",
     "output_type": "stream",
     "text": [
      "[I 2025-07-16 16:25:10,343] Trial 0 finished with value: 0.890139751552795 and parameters: {'n_estimators': 501, 'max_features': 0.24484242524861066, 'max_leaf_nodes': 1156, 'criterion': 'entropy'}. Best is trial 0 with value: 0.890139751552795.\n",
      "[I 2025-07-16 16:25:18,655] Trial 1 finished with value: 0.8523982056590752 and parameters: {'n_estimators': 476, 'max_features': 0.4253823424614421, 'max_leaf_nodes': 1408, 'criterion': 'entropy'}. Best is trial 0 with value: 0.890139751552795.\n",
      "[I 2025-07-16 16:25:26,948] Trial 2 finished with value: 0.9035110420979985 and parameters: {'n_estimators': 521, 'max_features': 0.1116027783762826, 'max_leaf_nodes': 698, 'criterion': 'entropy'}. Best is trial 2 with value: 0.9035110420979985.\n",
      "[I 2025-07-16 16:25:33,715] Trial 3 finished with value: 0.8473516218081435 and parameters: {'n_estimators': 412, 'max_features': 0.39200309009026957, 'max_leaf_nodes': 1200, 'criterion': 'entropy'}. Best is trial 2 with value: 0.9035110420979985.\n",
      "[I 2025-07-16 16:25:41,950] Trial 4 finished with value: 0.8812543133195309 and parameters: {'n_estimators': 543, 'max_features': 0.058127631650270836, 'max_leaf_nodes': 1880, 'criterion': 'entropy'}. Best is trial 2 with value: 0.9035110420979985.\n",
      "[I 2025-07-16 16:25:50,610] Trial 5 finished with value: 0.9138198757763975 and parameters: {'n_estimators': 568, 'max_features': 0.1338404894353437, 'max_leaf_nodes': 721, 'criterion': 'entropy'}. Best is trial 5 with value: 0.9138198757763975.\n",
      "[I 2025-07-16 16:25:56,798] Trial 6 finished with value: 0.872196342305038 and parameters: {'n_estimators': 437, 'max_features': 0.17012774507322093, 'max_leaf_nodes': 1094, 'criterion': 'entropy'}. Best is trial 5 with value: 0.9138198757763975.\n",
      "[I 2025-07-16 16:26:03,794] Trial 7 finished with value: 0.8438578329882679 and parameters: {'n_estimators': 487, 'max_features': 0.16498962001886253, 'max_leaf_nodes': 1216, 'criterion': 'entropy'}. Best is trial 5 with value: 0.9138198757763975.\n",
      "[I 2025-07-16 16:26:10,243] Trial 8 finished with value: 0.858221187025535 and parameters: {'n_estimators': 429, 'max_features': 0.1653511015510485, 'max_leaf_nodes': 902, 'criterion': 'entropy'}. Best is trial 5 with value: 0.9138198757763975.\n",
      "[I 2025-07-16 16:26:17,451] Trial 9 finished with value: 0.8690907522429262 and parameters: {'n_estimators': 492, 'max_features': 0.360020780843327, 'max_leaf_nodes': 736, 'criterion': 'entropy'}. Best is trial 5 with value: 0.9138198757763975.\n"
     ]
    },
    {
     "name": "stdout",
     "output_type": "stream",
     "text": [
      "Best hyperparameters: {'n_estimators': 568, 'max_features': 0.1338404894353437, 'max_leaf_nodes': 721, 'criterion': 'entropy', 'n_jobs': 15, 'random_state': 42, 'class_weight': 'balanced_subsample'}, Inner hyperparameter AUROC: 0.9138198757763975\n",
      "Internal AUROC CV-0: 0.970108695652174\n",
      "Internal AUROC CV-1: 0.9970238095238094\n",
      "Internal AUROC CV-2: 0.943064182194617\n",
      "Logistic regression for calibration...\n",
      "Logistic regression fit done.\n",
      "Average AUROC: 0.9700655624568668\n",
      "Model fitted.\n"
     ]
    },
    {
     "name": "stderr",
     "output_type": "stream",
     "text": [
      "[I 2025-07-16 16:26:30,991] A new study created in memory with name: no-name-ea8f69d1-ff35-4785-9818-0b1e7483f826\n"
     ]
    },
    {
     "name": "stdout",
     "output_type": "stream",
     "text": [
      "Fitting model on 2600 samples, positive samples: 26, negative samples: 2574, number of features 2048\n",
      "Suggested zero-shot hyperparameters: {'n_estimators': 501, 'max_features': 0.24484242524861066, 'criterion': 'entropy', 'max_leaf_nodes': 1156, 'random_state': 12032022, 'verbose': 0, 'class_weight': 'balanced_subsample'}\n",
      "Fitting...\n"
     ]
    },
    {
     "name": "stderr",
     "output_type": "stream",
     "text": [
      "[I 2025-07-16 16:26:37,504] Trial 0 finished with value: 0.8888026224982747 and parameters: {'n_estimators': 501, 'max_features': 0.24484242524861066, 'max_leaf_nodes': 1156, 'criterion': 'entropy'}. Best is trial 0 with value: 0.8888026224982747.\n",
      "[I 2025-07-16 16:26:46,011] Trial 1 finished with value: 0.7658298826777088 and parameters: {'n_estimators': 476, 'max_features': 0.4253823424614421, 'max_leaf_nodes': 1408, 'criterion': 'entropy'}. Best is trial 0 with value: 0.8888026224982747.\n",
      "[I 2025-07-16 16:26:54,319] Trial 2 finished with value: 0.8461438923395446 and parameters: {'n_estimators': 521, 'max_features': 0.1116027783762826, 'max_leaf_nodes': 698, 'criterion': 'entropy'}. Best is trial 0 with value: 0.8888026224982747.\n",
      "[I 2025-07-16 16:27:01,513] Trial 3 finished with value: 0.879744651483782 and parameters: {'n_estimators': 412, 'max_features': 0.39200309009026957, 'max_leaf_nodes': 1200, 'criterion': 'entropy'}. Best is trial 0 with value: 0.8888026224982747.\n",
      "[I 2025-07-16 16:27:09,643] Trial 4 finished with value: 0.8624482401656315 and parameters: {'n_estimators': 543, 'max_features': 0.058127631650270836, 'max_leaf_nodes': 1880, 'criterion': 'entropy'}. Best is trial 0 with value: 0.8888026224982747.\n",
      "[I 2025-07-16 16:27:18,405] Trial 5 pruned. \n",
      "[I 2025-07-16 16:27:18,406] Trial 6 pruned. \n",
      "[I 2025-07-16 16:27:18,407] Trial 7 pruned. \n",
      "[I 2025-07-16 16:27:18,407] Trial 8 pruned. \n",
      "[I 2025-07-16 16:27:18,407] Trial 9 pruned. \n"
     ]
    },
    {
     "name": "stdout",
     "output_type": "stream",
     "text": [
      "Early stopping: No significant improvement in the last 5 trials.\n",
      "Skipping trial due to early stopping criteria.\n",
      "Skipping trial due to early stopping criteria.\n",
      "Skipping trial due to early stopping criteria.\n",
      "Skipping trial due to early stopping criteria.\n",
      "Best hyperparameters: {'n_estimators': 501, 'max_features': 0.24484242524861066, 'max_leaf_nodes': 1156, 'criterion': 'entropy', 'n_jobs': 15, 'random_state': 42, 'class_weight': 'balanced_subsample'}, Inner hyperparameter AUROC: 0.8888026224982747\n",
      "Internal AUROC CV-0: 0.9844720496894409\n",
      "Internal AUROC CV-1: 0.999223602484472\n",
      "Internal AUROC CV-2: 0.9407349896480331\n",
      "Logistic regression for calibration...\n",
      "Logistic regression fit done.\n",
      "Average AUROC: 0.9748102139406486\n",
      "Model fitted.\n",
      "Fitting completed in 298.21 seconds.\n",
      "LazyQSAR Saving model to ../checkpoints/urological\n",
      "Creating model directory: ../checkpoints/urological\n",
      "Saving reducer to ../checkpoints/urological/partition_000/reducer.joblib\n",
      "Saving model to ../checkpoints/urological/partition_000\n",
      "Saving reducer to ../checkpoints/urological/partition_001/reducer.joblib\n",
      "Saving model to ../checkpoints/urological/partition_001\n",
      "Saving reducer to ../checkpoints/urological/partition_002/reducer.joblib\n",
      "Saving model to ../checkpoints/urological/partition_002\n",
      "Saving reducer to ../checkpoints/urological/partition_003/reducer.joblib\n",
      "Saving model to ../checkpoints/urological/partition_003\n",
      "Saving done!\n"
     ]
    }
   ],
   "source": [
    "for activity in activities:\n",
    "\n",
    "    # Get actives\n",
    "    actives = sorted(set(pd.read_csv(f\"./{activity}_smiles_rmsaltol.csv\", header=None)[0].tolist()))\n",
    "\n",
    "    # Get inactives\n",
    "    inactives = []\n",
    "    for a in activities:\n",
    "        if a != activity:\n",
    "            inactives.extend(sorted(set(pd.read_csv(f\"./{a}_smiles_rmsaltol.csv\", header=None)[0].tolist())))\n",
    "    inactives = sorted(set([i for i in inactives if i not in actives]))\n",
    "\n",
    "    print(activity, len(actives), len(inactives))\n",
    "    \n",
    "    # Run LQ\n",
    "    X = actives + inactives\n",
    "    Y = [1]*len(actives) + [0]*len(inactives)\n",
    "    model = lq.LazyBinaryQSAR(descriptor_type='morgan', model_type='randomforest')  # Potentially change morgan for chemeleon\n",
    "    model.fit(X, Y)\n",
    "    model.save_model(f\"../checkpoints/{activity}\")"
   ]
  },
  {
   "cell_type": "code",
   "execution_count": null,
   "id": "2cf6e9d1",
   "metadata": {},
   "outputs": [
    {
     "name": "stdout",
     "output_type": "stream",
     "text": [
      "LazyQSAR Saving model to ../checkpoints/antiinfective.joblib\n",
      "Creating model directory: ../checkpoints/antiinfective.joblib\n",
      "Saving reducer to ../checkpoints/antiinfective.joblib/partition_000/reducer.joblib\n",
      "Saving model to ../checkpoints/antiinfective.joblib/partition_000\n",
      "Saving done!\n"
     ]
    }
   ],
   "source": []
  },
  {
   "cell_type": "code",
   "execution_count": null,
   "id": "f3820224",
   "metadata": {},
   "outputs": [
    {
     "name": "stdout",
     "output_type": "stream",
     "text": [
      "Fitting inputs to feature descriptors using morgan\n"
     ]
    },
    {
     "name": "stderr",
     "output_type": "stream",
     "text": [
      "[15:02:30] Conflicting single bond directions around double bond at index 1.\n",
      "[15:02:30]   BondStereo set to STEREONONE and single bond directions set to NONE.\n",
      "[15:02:30] Conflicting single bond directions around double bond at index 1.\n",
      "[15:02:30]   BondStereo set to STEREONONE and single bond directions set to NONE.\n",
      "[15:02:30] Conflicting single bond directions around double bond at index 1.\n",
      "[15:02:30]   BondStereo set to STEREONONE and single bond directions set to NONE.\n",
      "[15:02:30] Conflicting single bond directions around double bond at index 1.\n",
      "[15:02:30]   BondStereo set to STEREONONE and single bond directions set to NONE.\n",
      "[15:02:30] Conflicting single bond directions around double bond at index 1.\n",
      "[15:02:30]   BondStereo set to STEREONONE and single bond directions set to NONE.\n",
      "[15:02:30] Conflicting single bond directions around double bond at index 1.\n",
      "[15:02:30]   BondStereo set to STEREONONE and single bond directions set to NONE.\n",
      "[15:02:30] Conflicting single bond directions around double bond at index 1.\n",
      "[15:02:30]   BondStereo set to STEREONONE and single bond directions set to NONE.\n",
      "[15:02:30] Conflicting single bond directions around double bond at index 1.\n",
      "[15:02:30]   BondStereo set to STEREONONE and single bond directions set to NONE.\n",
      "[15:02:30] Conflicting single bond directions around double bond at index 1.\n",
      "[15:02:30]   BondStereo set to STEREONONE and single bond directions set to NONE.\n",
      "[15:02:31] WARNING: not removing hydrogen atom without neighbors\n"
     ]
    },
    {
     "name": "stdout",
     "output_type": "stream",
     "text": [
      "Transforming inputs to feature descriptors using morgan\n"
     ]
    },
    {
     "name": "stderr",
     "output_type": "stream",
     "text": [
      "[15:02:32] Conflicting single bond directions around double bond at index 1.\n",
      "[15:02:32]   BondStereo set to STEREONONE and single bond directions set to NONE.\n",
      "[15:02:32] Conflicting single bond directions around double bond at index 1.\n",
      "[15:02:32]   BondStereo set to STEREONONE and single bond directions set to NONE.\n",
      "[15:02:32] Conflicting single bond directions around double bond at index 1.\n",
      "[15:02:32]   BondStereo set to STEREONONE and single bond directions set to NONE.\n",
      "[15:02:32] Conflicting single bond directions around double bond at index 1.\n",
      "[15:02:32]   BondStereo set to STEREONONE and single bond directions set to NONE.\n",
      "[15:02:32] Conflicting single bond directions around double bond at index 1.\n",
      "[15:02:32]   BondStereo set to STEREONONE and single bond directions set to NONE.\n",
      "[15:02:32] Conflicting single bond directions around double bond at index 1.\n",
      "[15:02:32]   BondStereo set to STEREONONE and single bond directions set to NONE.\n",
      "[15:02:32] Conflicting single bond directions around double bond at index 1.\n",
      "[15:02:32]   BondStereo set to STEREONONE and single bond directions set to NONE.\n",
      "[15:02:32] Conflicting single bond directions around double bond at index 1.\n",
      "[15:02:32]   BondStereo set to STEREONONE and single bond directions set to NONE.\n",
      "[15:02:32] Conflicting single bond directions around double bond at index 1.\n",
      "[15:02:32]   BondStereo set to STEREONONE and single bond directions set to NONE.\n",
      "[15:02:34] WARNING: not removing hydrogen atom without neighbors\n"
     ]
    },
    {
     "name": "stdout",
     "output_type": "stream",
     "text": [
      "Performing predictions on input feature of shape: (6948, 2048)\n",
      "Total samples: 6948, positive samples: 2398, negative samples: 4550\n",
      "Maximum samples per partition: 10000, minimum samples per partition: 30\n",
      "Positive proportion: 0.35\n",
      "Original positive samples: 2398, total samples: 6948\n",
      "Maximum samples: 10000\n",
      "Sampling 2398 positive and 4550 negative samples from 6948 total samples.\n"
     ]
    },
    {
     "name": "stderr",
     "output_type": "stream",
     "text": [
      "  1%|          | 10/1000 [00:00<00:25, 38.38it/s]\n"
     ]
    },
    {
     "name": "stdout",
     "output_type": "stream",
     "text": [
      "Unique sampled indices matrix shape: (1, 6948)\n"
     ]
    },
    {
     "name": "stderr",
     "output_type": "stream",
     "text": [
      "100%|██████████| 1/1 [00:01<00:00,  1.22s/it]\n"
     ]
    },
    {
     "name": "stdout",
     "output_type": "stream",
     "text": [
      "Indices matrix shape after redundancy removal: (1, 6948)\n",
      "Original positive negative balance: positive 2398, negative 4550\n",
      "Avg positive samples: 2398.0, avg negative samples: 4550.0\n"
     ]
    },
    {
     "name": "stderr",
     "output_type": "stream",
     "text": [
      "[I 2025-07-16 15:02:38,075] A new study created in memory with name: no-name-1439b5ac-2167-4bdf-9084-a8fd09ed6c00\n"
     ]
    },
    {
     "name": "stdout",
     "output_type": "stream",
     "text": [
      "Fitting model on 6948 samples, positive samples: 2398, negative samples: 4550, number of features 2048\n",
      "Suggested zero-shot hyperparameters: {'n_estimators': 501, 'max_features': 0.24484242524861066, 'criterion': 'entropy', 'max_leaf_nodes': 1156, 'random_state': 12032022, 'verbose': 0, 'class_weight': 'balanced_subsample'}\n",
      "Fitting...\n"
     ]
    },
    {
     "name": "stderr",
     "output_type": "stream",
     "text": [
      "[I 2025-07-16 15:04:32,795] Trial 0 finished with value: 0.9791835238932863 and parameters: {'n_estimators': 501, 'max_features': 0.24484242524861066, 'max_leaf_nodes': 1156, 'criterion': 'entropy'}. Best is trial 0 with value: 0.9791835238932863.\n",
      "[I 2025-07-16 15:07:27,610] Trial 1 finished with value: 0.9779978989543633 and parameters: {'n_estimators': 476, 'max_features': 0.4253823424614421, 'max_leaf_nodes': 2890, 'criterion': 'entropy'}. Best is trial 0 with value: 0.9791835238932863.\n"
     ]
    },
    {
     "name": "stdout",
     "output_type": "stream",
     "text": [
      "Best hyperparameters: {'n_estimators': 501, 'max_features': 0.24484242524861066, 'max_leaf_nodes': 1156, 'criterion': 'entropy', 'n_jobs': 15, 'random_state': 42, 'class_weight': 'balanced_subsample'}, Inner hyperparameter AUROC: 0.9791835238932863\n",
      "Internal AUROC CV-0: 0.9794041336851363\n",
      "Internal AUROC CV-1: 0.9810041043682205\n",
      "Internal AUROC CV-2: 0.9794246555262386\n",
      "Logistic regression for calibration...\n",
      "Logistic regression fit done.\n",
      "Average AUROC: 0.979944297859865\n",
      "Model fitted.\n",
      "Fitting completed in 417.03 seconds.\n"
     ]
    }
   ],
   "source": []
  }
 ],
 "metadata": {
  "kernelspec": {
   "display_name": "eos238c",
   "language": "python",
   "name": "python3"
  },
  "language_info": {
   "codemirror_mode": {
    "name": "ipython",
    "version": 3
   },
   "file_extension": ".py",
   "mimetype": "text/x-python",
   "name": "python",
   "nbconvert_exporter": "python",
   "pygments_lexer": "ipython3",
   "version": "3.11.13"
  }
 },
 "nbformat": 4,
 "nbformat_minor": 5
}
